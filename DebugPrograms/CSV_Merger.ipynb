{
 "cells": [
  {
   "cell_type": "code",
   "execution_count": 4,
   "id": "190c5fb3",
   "metadata": {},
   "outputs": [],
   "source": [
    "import csv\n",
    "import pandas as pd\n",
    "year = '2022'\n",
    "path = ''\n",
    "kp_csv_file_name = 'Off.csv'\n",
    "rank_csv_file_name = ''\n",
    "sr_file_name = 'Def.csv'\n",
    "combined_csv = year + '_sample.csv'"
   ]
  },
  {
   "cell_type": "code",
   "execution_count": 5,
   "id": "20b0cc6b",
   "metadata": {},
   "outputs": [],
   "source": [
    "#combine the two files based on team name\n",
    "def join_csv_files(file1, file2, join_column, csvYear):\n",
    "    with open(file1, 'r') as csv_file1:\n",
    "        csv_reader1 = csv.DictReader(csv_file1)\n",
    "\n",
    "        with open(file2, 'r') as csv_file2:\n",
    "            csv_reader2 = csv.DictReader(csv_file2)\n",
    "\n",
    "            # create a dictionary to store the rows from file2\n",
    "            file2_dict = {}\n",
    "            for row2 in csv_reader2:\n",
    "                file2_dict[row2[join_column]] = row2\n",
    "\n",
    "            # create a list to store the joined rows\n",
    "            joined_rows = []\n",
    "\n",
    "            # iterate over each row in file1 and join with the corresponding row in file2\n",
    "            for row1 in csv_reader1:\n",
    "                row2 = file2_dict.get(row1[join_column])\n",
    "                if row2:\n",
    "                    # join the two rows using a dictionary comprehension\n",
    "                    joined_row = {**row1, **row2}\n",
    "                    joined_rows.append(joined_row)\n",
    "\n",
    "    # write the joined rows to a new CSV file\n",
    "    with open(csvYear +'_combined.csv', 'w', newline='') as csv_file:\n",
    "        fieldnames = joined_rows[0].keys()\n",
    "        csv_writer = csv.DictWriter(csv_file, fieldnames=fieldnames)\n",
    "        csv_writer.writeheader()\n",
    "        for row in joined_rows:\n",
    "            csv_writer.writerow(row)\n",
    "\n"
   ]
  },
  {
   "cell_type": "code",
   "execution_count": 6,
   "id": "35327735",
   "metadata": {},
   "outputs": [],
   "source": [
    "if __name__ == '__main__':\n",
    "        join_csv_files(kp_csv_file_name, sr_file_name, 'Tm', year)\n",
    "    "
   ]
  },
  {
   "cell_type": "code",
   "execution_count": null,
   "id": "f4b267f9",
   "metadata": {},
   "outputs": [],
   "source": []
  }
 ],
 "metadata": {
  "kernelspec": {
   "display_name": "Python 3 (ipykernel)",
   "language": "python",
   "name": "python3"
  },
  "language_info": {
   "codemirror_mode": {
    "name": "ipython",
    "version": 3
   },
   "file_extension": ".py",
   "mimetype": "text/x-python",
   "name": "python",
   "nbconvert_exporter": "python",
   "pygments_lexer": "ipython3",
   "version": "3.9.12"
  }
 },
 "nbformat": 4,
 "nbformat_minor": 5
}
