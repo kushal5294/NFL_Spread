{
 "cells": [
  {
   "cell_type": "code",
   "execution_count": 2,
   "id": "80299b2e",
   "metadata": {},
   "outputs": [],
   "source": [
    "import pandas as pd"
   ]
  },
  {
   "cell_type": "code",
   "execution_count": 3,
   "id": "e1c47ccc",
   "metadata": {},
   "outputs": [],
   "source": [
    "#Loop through years\n",
    "    #Read in csvs\n",
    "year = \"2016\"\n",
    "    #Remove redundant columns\n",
    "df = pd.read_csv(f\"{year}Def.csv\")\n",
    "df = df.drop('G', axis = 'columns')\n",
    "df = df.drop('PA', axis = 'columns')\n",
    "df = df.drop('Cmp', axis = 'columns')\n",
    "df = df.drop('Att', axis = 'columns')\n",
    "df = df.drop('Yds.1', axis = 'columns')\n",
    "df = df.drop('TD', axis = 'columns')\n",
    "df = df.drop('Int', axis = 'columns')\n",
    "df = df.drop('NY/A', axis = 'columns')\n",
    "df = df.drop('Att.1', axis = 'columns')\n",
    "df = df.drop('Yds.2', axis = 'columns')\n",
    "df = df.drop('TD.1', axis = 'columns')\n",
    "df = df.drop('Y/A', axis = 'columns')\n",
    "df = df.rename(columns = {'Yds': 'Yds_tot', '1stD': '1stD_tot', '1stD.1': '1stD_Pss', '1stD.2': '1stD_Rsh', 'Yds.3': 'Yds_Pny'})\n",
    "of = pd.read_csv(f\"{year}Off.csv\")\n",
    "of = of.drop('G', axis = 'columns')\n",
    "of = of.drop('PF', axis = 'columns')\n",
    "of = of.drop('Cmp', axis = 'columns')\n",
    "of = of.drop('Att', axis = 'columns')\n",
    "of = of.drop('Yds.1', axis = 'columns')\n",
    "of = of.drop('TD', axis = 'columns')\n",
    "of = of.drop('Int', axis = 'columns')\n",
    "of = of.drop('NY/A', axis = 'columns')\n",
    "of = of.drop('Att.1', axis = 'columns')\n",
    "of = of.drop('Yds.2', axis = 'columns')\n",
    "of = of.drop('TD.1', axis = 'columns')\n",
    "of = of.drop('Y/A', axis = 'columns')\n",
    "of = of.rename(columns = {'Yds': 'Yds_tot', '1stD': '1stD_tot', '1stD.1': '1stD_Pss', '1stD.2': '1stD_Rsh', 'Yds.3': 'Yds_Pny'})\n",
    "\n",
    "dfPass = pd.read_csv(f\"{year}PassingDef.csv\")\n",
    "ofPass = pd.read_csv(f\"{year}PassingOff.csv\")\n",
    "dfRush = pd.read_csv(f\"{year}RushingDef.csv\")\n",
    "dfRush.drop('G', axis = 'columns')\n",
    "ofRush = pd.read_csv(f\"{year}RushingOff.csv\")\n",
    "ofRush.drop('G', axis = 'columns')\n",
    "dfScor = pd.read_csv(f\"{year}ScoringDef.csv\")\n",
    "ofScor = pd.read_csv(f\"{year}ScoringOff.csv\")\n",
    "\n",
    "#NOTE: Overall has different name for team column\n",
    "standings = pd.read_csv(f\"{year}NFLDATA_overall.csv\")\n",
    "\n",
    "#Merge csvs\n",
    "offCSV = pd.merge(ofPass, ofRush, on = \"Tm\", suffixes=(\"_Pss\", \"_Rsh\"))\n",
    "\n",
    "#num_rows, num_columns = offCSV.shape\n",
    "#print (num_rows)\n",
    "#print (num_columns)\n",
    "offCSV = pd.merge(of, offCSV, on = \"Tm\")\n",
    "offCSV = pd.merge(offCSV, ofScor, on = \"Tm\")\n",
    "offCSV = offCSV.dropna(subset=['Tm'])\n",
    "\n",
    "defCSV = pd.merge(dfPass, dfRush, on = \"Tm\", suffixes=(\"_Pss\", \"_Rsh\"))\n",
    "defCSV = pd.merge(df, defCSV, on = \"Tm\")\n",
    "defCSV = pd.merge(defCSV, dfScor, on = \"Tm\")\n",
    "defCSV = defCSV.dropna(subset=['Tm'])\n",
    "\n",
    "outputCSV = pd.merge(offCSV, defCSV, on = \"Tm\", suffixes=(\"_Off\", \"_Def\"))\n",
    "outputCSV.to_csv(\"debug.csv\")\n",
    "outputCSV = pd.merge(standings, outputCSV, left_on = \"Tm\", right_on = \"Tm\")\n",
    "outputCSV.to_csv(\"debug.csv\")\n",
    "\n",
    "#Print out that year's csv\n",
    "outputCSV.to_csv(f\"{year}_all_stats.csv\")"
   ]
  },
  {
   "cell_type": "code",
   "execution_count": null,
   "id": "e2f3059e",
   "metadata": {},
   "outputs": [],
   "source": []
  },
  {
   "cell_type": "code",
   "execution_count": null,
   "id": "73d5e499",
   "metadata": {},
   "outputs": [],
   "source": []
  }
 ],
 "metadata": {
  "kernelspec": {
   "display_name": "Python 3 (ipykernel)",
   "language": "python",
   "name": "python3"
  },
  "language_info": {
   "codemirror_mode": {
    "name": "ipython",
    "version": 3
   },
   "file_extension": ".py",
   "mimetype": "text/x-python",
   "name": "python",
   "nbconvert_exporter": "python",
   "pygments_lexer": "ipython3",
   "version": "3.9.12"
  }
 },
 "nbformat": 4,
 "nbformat_minor": 5
}
