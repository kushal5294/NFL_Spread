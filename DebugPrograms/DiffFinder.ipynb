{
 "cells": [
  {
   "cell_type": "code",
   "execution_count": 1,
   "id": "7f7acb0c",
   "metadata": {},
   "outputs": [
    {
     "name": "stdout",
     "output_type": "stream",
     "text": [
      "Unique columns in DataFrame 1:\n",
      "Index(['D2P_Def_away', 'D2P_Def_home', 'L_away', 'L_home', 'Unnamed: 0',\n",
      "       'Unnamed: 0.1', 'Unnamed: 0_x', 'Unnamed: 0_y', 'W-L%_away',\n",
      "       'W-L%_home', 'W_away', 'W_home'],\n",
      "      dtype='object')\n",
      "Shape of the DataFrame: (272, 304)\n",
      "\n",
      "Unique columns in DataFrame 2:\n",
      "Index(['Away_Score', 'Diff', 'Home_Score', 'losses_away', 'losses_home',\n",
      "       'ties_away', 'ties_home', 'wins_away', 'wins_home', 'wlp_away',\n",
      "       'wlp_home'],\n",
      "      dtype='object')\n",
      "Shape of the DataFrame: (1847, 303)\n"
     ]
    }
   ],
   "source": [
    "import pandas as pd\n",
    "\n",
    "# Load the two databases into Pandas DataFrames\n",
    "df1 = pd.read_csv('2023Test.csv')  # Replace with the actual path or method to load your first database\n",
    "df2 = pd.read_csv('trainData.csv')  # Replace with the actual path or method to load your second database\n",
    "\n",
    "# Find unique columns in each DataFrame\n",
    "unique_columns_df1 = df1.columns.difference(df2.columns)\n",
    "unique_columns_df2 = df2.columns.difference(df1.columns)\n",
    "\n",
    "# Print the names of unique columns in each DataFrame\n",
    "print(\"Unique columns in DataFrame 1:\")\n",
    "print(unique_columns_df1)\n",
    "shape = df1.shape\n",
    "print(\"Shape of the DataFrame:\", shape)\n",
    "print(\"\\nUnique columns in DataFrame 2:\")\n",
    "print(unique_columns_df2)\n",
    "shape = df2.shape\n",
    "print(\"Shape of the DataFrame:\", shape)"
   ]
  },
  {
   "cell_type": "code",
   "execution_count": null,
   "id": "84fb6d8f",
   "metadata": {},
   "outputs": [],
   "source": []
  },
  {
   "cell_type": "code",
   "execution_count": null,
   "id": "4d42f128",
   "metadata": {},
   "outputs": [],
   "source": []
  }
 ],
 "metadata": {
  "kernelspec": {
   "display_name": "Python 3 (ipykernel)",
   "language": "python",
   "name": "python3"
  },
  "language_info": {
   "codemirror_mode": {
    "name": "ipython",
    "version": 3
   },
   "file_extension": ".py",
   "mimetype": "text/x-python",
   "name": "python",
   "nbconvert_exporter": "python",
   "pygments_lexer": "ipython3",
   "version": "3.9.12"
  }
 },
 "nbformat": 4,
 "nbformat_minor": 5
}
