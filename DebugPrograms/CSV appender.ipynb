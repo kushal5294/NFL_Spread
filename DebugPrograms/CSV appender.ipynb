{
 "cells": [
  {
   "cell_type": "code",
   "execution_count": 12,
   "id": "066478a5",
   "metadata": {},
   "outputs": [
    {
     "name": "stdout",
     "output_type": "stream",
     "text": [
      "    Unnamed: 0.1  Unnamed: 0                         Tm  wins  losses  ties  \\\n",
      "0              0           0  New England Patriots_2016    14       2     0   \n",
      "1              1           1        Dallas Cowboys_2016    13       3     0   \n",
      "2              2           2    Kansas City Chiefs_2016    12       4     0   \n",
      "3              3           3       Oakland Raiders_2016    12       4     0   \n",
      "4              4           4   Pittsburgh Steelers_2016    11       5     0   \n",
      "..           ...         ...                        ...   ...     ...   ...   \n",
      "27            27          27       Atlanta Falcons_2022     7      10     0   \n",
      "28            28          28   San Francisco 49ers_2022    13       4     0   \n",
      "29            29          29      Seattle Seahawks_2022     9       8     0   \n",
      "30            30          30      Los Angeles Rams_2022     5      12     0   \n",
      "31            31          31     Arizona Cardinals_2022     4      13     0   \n",
      "\n",
      "      wlp   PF   PA  PD_x  ...  2PA_Def  D2P_Def  XPM_Def  XPA_Def  FGM_Def  \\\n",
      "0   0.875  441  250   191  ...      3.0      NaN     23.0     24.0     21.0   \n",
      "1   0.813  421  306   115  ...      6.0      NaN     27.0     28.0     25.0   \n",
      "2   0.750  389  311    78  ...      4.0      NaN     30.0     30.0     25.0   \n",
      "3   0.750  416  385    31  ...      7.0      NaN     35.0     39.0     22.0   \n",
      "4   0.688  399  327    72  ...      4.0      NaN     29.0     32.0     26.0   \n",
      "..    ...  ...  ...   ...  ...      ...      ...      ...      ...      ...   \n",
      "27  0.412  365  386   -21  ...      5.0      NaN     33.0     36.0     33.0   \n",
      "28  0.765  450  277   173  ...      3.0      NaN     27.0     30.0     16.0   \n",
      "29  0.529  407  401     6  ...      3.0      NaN     39.0     42.0     26.0   \n",
      "30  0.294  307  384   -77  ...      3.0      NaN     36.0     36.0     36.0   \n",
      "31  0.235  340  449  -109  ...      2.0      NaN     48.0     50.0     29.0   \n",
      "\n",
      "    FGA_Def  Sfty_Def  Pts_Def  Pts/G_Def             team name  \n",
      "0      29.0       NaN    250.0       15.6  New England Patriots  \n",
      "1      32.0       NaN    306.0       19.1        Dallas Cowboys  \n",
      "2      30.0       NaN    311.0       19.4    Kansas City Chiefs  \n",
      "3      26.0       NaN    385.0       24.1       Oakland Raiders  \n",
      "4      31.0       NaN    327.0       20.4   Pittsburgh Steelers  \n",
      "..      ...       ...      ...        ...                   ...  \n",
      "27     38.0       NaN    386.0       22.7       Atlanta Falcons  \n",
      "28     21.0       2.0    277.0       16.3   San Francisco 49ers  \n",
      "29     32.0       1.0    401.0       23.6      Seattle Seahawks  \n",
      "30     40.0       1.0    384.0       22.6      Los Angeles Rams  \n",
      "31     31.0       NaN    449.0       26.4     Arizona Cardinals  \n",
      "\n",
      "[224 rows x 152 columns]\n"
     ]
    }
   ],
   "source": [
    "import pandas as pd\n",
    "\n",
    "combined_df = pd.DataFrame()\n",
    "\n",
    "file_names = ['2022_all_stats.csv', '2021_all_stats.csv', '2020_all_stats.csv', '2019_all_stats.csv',\n",
    "              '2018_all_stats.csv', '2017_all_stats.csv','2016_all_stats.csv' ] \n",
    "for file_name in file_names:\n",
    "        data = pd.read_csv(file_name)\n",
    "        combined_df = pd.concat([data, combined_df], axis=0)\n",
    "   \n",
    "print(combined_df)\n",
    "combined_df.fillna(0.0, inplace=True)\n",
    "\n",
    "combined_df.to_csv('combined_data.csv', index=False)"
   ]
  },
  {
   "cell_type": "code",
   "execution_count": null,
   "id": "ea420743",
   "metadata": {},
   "outputs": [],
   "source": []
  }
 ],
 "metadata": {
  "kernelspec": {
   "display_name": "Python 3 (ipykernel)",
   "language": "python",
   "name": "python3"
  },
  "language_info": {
   "codemirror_mode": {
    "name": "ipython",
    "version": 3
   },
   "file_extension": ".py",
   "mimetype": "text/x-python",
   "name": "python",
   "nbconvert_exporter": "python",
   "pygments_lexer": "ipython3",
   "version": "3.9.12"
  }
 },
 "nbformat": 4,
 "nbformat_minor": 5
}
