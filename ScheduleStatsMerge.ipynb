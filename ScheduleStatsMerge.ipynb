{
 "cells": [
  {
   "cell_type": "code",
   "execution_count": 1,
   "id": "7d1be934",
   "metadata": {},
   "outputs": [],
   "source": [
    "import pandas as pd\n"
   ]
  },
  {
   "cell_type": "code",
   "execution_count": 5,
   "id": "45d37ef4",
   "metadata": {},
   "outputs": [],
   "source": [
    "scores_df = pd.read_csv(\"scrape.csv\")\n",
    "sample_data_df = pd.read_csv(\"finalDF.csv\")\n",
    "merged_df = pd.merge(scores_df, sample_data_df, left_on=\"Away\", right_on=\"Tm\", how=\"left\")\n",
    "merged_df = pd.merge(merged_df, sample_data_df, left_on=\"Home\", right_on=\"Tm\", suffixes=(\"_away\", \"_home\"), how=\"left\")\n",
    "merged_df.to_csv(\"df.csv\")\n"
   ]
  },
  {
   "cell_type": "code",
   "execution_count": null,
   "id": "4863a60a",
   "metadata": {},
   "outputs": [],
   "source": []
  }
 ],
 "metadata": {
  "kernelspec": {
   "display_name": "Python 3 (ipykernel)",
   "language": "python",
   "name": "python3"
  },
  "language_info": {
   "codemirror_mode": {
    "name": "ipython",
    "version": 3
   },
   "file_extension": ".py",
   "mimetype": "text/x-python",
   "name": "python",
   "nbconvert_exporter": "python",
   "pygments_lexer": "ipython3",
   "version": "3.9.12"
  }
 },
 "nbformat": 4,
 "nbformat_minor": 5
}
