{
 "cells": [
  {
   "cell_type": "code",
   "execution_count": 4,
   "id": "7ccc7c20",
   "metadata": {},
   "outputs": [
    {
     "name": "stdout",
     "output_type": "stream",
     "text": [
      "Testing the value 5\n",
      "9/9 [==============================] - 0s 890us/step\n"
     ]
    },
    {
     "name": "stderr",
     "output_type": "stream",
     "text": [
      "/var/folders/c3/4jwj2hy164s7ghr3rk_vnv9c0000gn/T/ipykernel_57647/1630145182.py:128: FutureWarning: The default value of regex will change from True to False in a future version. In addition, single character regular expressions will *not* be treated as literal strings when regex=True.\n",
      "  lines['Home_spread'] = lines['Home_spread'].str.replace('+', '')\n"
     ]
    },
    {
     "name": "stdout",
     "output_type": "stream",
     "text": [
      "9/9 [==============================] - 0s 916us/step\n"
     ]
    },
    {
     "name": "stderr",
     "output_type": "stream",
     "text": [
      "/var/folders/c3/4jwj2hy164s7ghr3rk_vnv9c0000gn/T/ipykernel_57647/1630145182.py:128: FutureWarning: The default value of regex will change from True to False in a future version. In addition, single character regular expressions will *not* be treated as literal strings when regex=True.\n",
      "  lines['Home_spread'] = lines['Home_spread'].str.replace('+', '')\n"
     ]
    },
    {
     "name": "stdout",
     "output_type": "stream",
     "text": [
      "9/9 [==============================] - 0s 913us/step\n"
     ]
    },
    {
     "name": "stderr",
     "output_type": "stream",
     "text": [
      "/var/folders/c3/4jwj2hy164s7ghr3rk_vnv9c0000gn/T/ipykernel_57647/1630145182.py:128: FutureWarning: The default value of regex will change from True to False in a future version. In addition, single character regular expressions will *not* be treated as literal strings when regex=True.\n",
      "  lines['Home_spread'] = lines['Home_spread'].str.replace('+', '')\n"
     ]
    },
    {
     "name": "stdout",
     "output_type": "stream",
     "text": [
      "9/9 [==============================] - 0s 926us/step\n"
     ]
    },
    {
     "name": "stderr",
     "output_type": "stream",
     "text": [
      "/var/folders/c3/4jwj2hy164s7ghr3rk_vnv9c0000gn/T/ipykernel_57647/1630145182.py:128: FutureWarning: The default value of regex will change from True to False in a future version. In addition, single character regular expressions will *not* be treated as literal strings when regex=True.\n",
      "  lines['Home_spread'] = lines['Home_spread'].str.replace('+', '')\n"
     ]
    },
    {
     "name": "stdout",
     "output_type": "stream",
     "text": [
      "9/9 [==============================] - 0s 915us/step\n"
     ]
    },
    {
     "name": "stderr",
     "output_type": "stream",
     "text": [
      "/var/folders/c3/4jwj2hy164s7ghr3rk_vnv9c0000gn/T/ipykernel_57647/1630145182.py:128: FutureWarning: The default value of regex will change from True to False in a future version. In addition, single character regular expressions will *not* be treated as literal strings when regex=True.\n",
      "  lines['Home_spread'] = lines['Home_spread'].str.replace('+', '')\n"
     ]
    },
    {
     "name": "stdout",
     "output_type": "stream",
     "text": [
      "9/9 [==============================] - 0s 917us/step\n"
     ]
    },
    {
     "name": "stderr",
     "output_type": "stream",
     "text": [
      "/var/folders/c3/4jwj2hy164s7ghr3rk_vnv9c0000gn/T/ipykernel_57647/1630145182.py:128: FutureWarning: The default value of regex will change from True to False in a future version. In addition, single character regular expressions will *not* be treated as literal strings when regex=True.\n",
      "  lines['Home_spread'] = lines['Home_spread'].str.replace('+', '')\n"
     ]
    },
    {
     "name": "stdout",
     "output_type": "stream",
     "text": [
      "9/9 [==============================] - 0s 925us/step\n"
     ]
    },
    {
     "name": "stderr",
     "output_type": "stream",
     "text": [
      "/var/folders/c3/4jwj2hy164s7ghr3rk_vnv9c0000gn/T/ipykernel_57647/1630145182.py:128: FutureWarning: The default value of regex will change from True to False in a future version. In addition, single character regular expressions will *not* be treated as literal strings when regex=True.\n",
      "  lines['Home_spread'] = lines['Home_spread'].str.replace('+', '')\n"
     ]
    },
    {
     "name": "stdout",
     "output_type": "stream",
     "text": [
      "9/9 [==============================] - 0s 909us/step\n",
      "Testing the value 6\n"
     ]
    },
    {
     "name": "stderr",
     "output_type": "stream",
     "text": [
      "/var/folders/c3/4jwj2hy164s7ghr3rk_vnv9c0000gn/T/ipykernel_57647/1630145182.py:128: FutureWarning: The default value of regex will change from True to False in a future version. In addition, single character regular expressions will *not* be treated as literal strings when regex=True.\n",
      "  lines['Home_spread'] = lines['Home_spread'].str.replace('+', '')\n"
     ]
    },
    {
     "name": "stdout",
     "output_type": "stream",
     "text": [
      "9/9 [==============================] - 0s 906us/step\n"
     ]
    },
    {
     "name": "stderr",
     "output_type": "stream",
     "text": [
      "/var/folders/c3/4jwj2hy164s7ghr3rk_vnv9c0000gn/T/ipykernel_57647/1630145182.py:128: FutureWarning: The default value of regex will change from True to False in a future version. In addition, single character regular expressions will *not* be treated as literal strings when regex=True.\n",
      "  lines['Home_spread'] = lines['Home_spread'].str.replace('+', '')\n"
     ]
    },
    {
     "name": "stdout",
     "output_type": "stream",
     "text": [
      "9/9 [==============================] - 0s 930us/step\n"
     ]
    },
    {
     "name": "stderr",
     "output_type": "stream",
     "text": [
      "/var/folders/c3/4jwj2hy164s7ghr3rk_vnv9c0000gn/T/ipykernel_57647/1630145182.py:128: FutureWarning: The default value of regex will change from True to False in a future version. In addition, single character regular expressions will *not* be treated as literal strings when regex=True.\n",
      "  lines['Home_spread'] = lines['Home_spread'].str.replace('+', '')\n"
     ]
    },
    {
     "name": "stdout",
     "output_type": "stream",
     "text": [
      "9/9 [==============================] - 0s 910us/step\n"
     ]
    },
    {
     "name": "stderr",
     "output_type": "stream",
     "text": [
      "/var/folders/c3/4jwj2hy164s7ghr3rk_vnv9c0000gn/T/ipykernel_57647/1630145182.py:128: FutureWarning: The default value of regex will change from True to False in a future version. In addition, single character regular expressions will *not* be treated as literal strings when regex=True.\n",
      "  lines['Home_spread'] = lines['Home_spread'].str.replace('+', '')\n"
     ]
    },
    {
     "name": "stdout",
     "output_type": "stream",
     "text": [
      "9/9 [==============================] - 0s 884us/step\n"
     ]
    },
    {
     "name": "stderr",
     "output_type": "stream",
     "text": [
      "/var/folders/c3/4jwj2hy164s7ghr3rk_vnv9c0000gn/T/ipykernel_57647/1630145182.py:128: FutureWarning: The default value of regex will change from True to False in a future version. In addition, single character regular expressions will *not* be treated as literal strings when regex=True.\n",
      "  lines['Home_spread'] = lines['Home_spread'].str.replace('+', '')\n"
     ]
    },
    {
     "name": "stdout",
     "output_type": "stream",
     "text": [
      "9/9 [==============================] - 0s 891us/step\n"
     ]
    },
    {
     "name": "stderr",
     "output_type": "stream",
     "text": [
      "/var/folders/c3/4jwj2hy164s7ghr3rk_vnv9c0000gn/T/ipykernel_57647/1630145182.py:128: FutureWarning: The default value of regex will change from True to False in a future version. In addition, single character regular expressions will *not* be treated as literal strings when regex=True.\n",
      "  lines['Home_spread'] = lines['Home_spread'].str.replace('+', '')\n"
     ]
    },
    {
     "name": "stdout",
     "output_type": "stream",
     "text": [
      "9/9 [==============================] - 0s 890us/step\n"
     ]
    },
    {
     "name": "stderr",
     "output_type": "stream",
     "text": [
      "/var/folders/c3/4jwj2hy164s7ghr3rk_vnv9c0000gn/T/ipykernel_57647/1630145182.py:128: FutureWarning: The default value of regex will change from True to False in a future version. In addition, single character regular expressions will *not* be treated as literal strings when regex=True.\n",
      "  lines['Home_spread'] = lines['Home_spread'].str.replace('+', '')\n"
     ]
    },
    {
     "name": "stdout",
     "output_type": "stream",
     "text": [
      "9/9 [==============================] - 0s 892us/step\n"
     ]
    },
    {
     "name": "stderr",
     "output_type": "stream",
     "text": [
      "/var/folders/c3/4jwj2hy164s7ghr3rk_vnv9c0000gn/T/ipykernel_57647/1630145182.py:128: FutureWarning: The default value of regex will change from True to False in a future version. In addition, single character regular expressions will *not* be treated as literal strings when regex=True.\n",
      "  lines['Home_spread'] = lines['Home_spread'].str.replace('+', '')\n"
     ]
    },
    {
     "name": "stdout",
     "output_type": "stream",
     "text": [
      "9/9 [==============================] - 0s 896us/step\n",
      "Testing the value 7\n"
     ]
    },
    {
     "name": "stderr",
     "output_type": "stream",
     "text": [
      "/var/folders/c3/4jwj2hy164s7ghr3rk_vnv9c0000gn/T/ipykernel_57647/1630145182.py:128: FutureWarning: The default value of regex will change from True to False in a future version. In addition, single character regular expressions will *not* be treated as literal strings when regex=True.\n",
      "  lines['Home_spread'] = lines['Home_spread'].str.replace('+', '')\n"
     ]
    },
    {
     "name": "stdout",
     "output_type": "stream",
     "text": [
      "9/9 [==============================] - 0s 917us/step\n"
     ]
    },
    {
     "name": "stderr",
     "output_type": "stream",
     "text": [
      "/var/folders/c3/4jwj2hy164s7ghr3rk_vnv9c0000gn/T/ipykernel_57647/1630145182.py:128: FutureWarning: The default value of regex will change from True to False in a future version. In addition, single character regular expressions will *not* be treated as literal strings when regex=True.\n",
      "  lines['Home_spread'] = lines['Home_spread'].str.replace('+', '')\n"
     ]
    },
    {
     "name": "stdout",
     "output_type": "stream",
     "text": [
      "9/9 [==============================] - 0s 929us/step\n"
     ]
    },
    {
     "name": "stderr",
     "output_type": "stream",
     "text": [
      "/var/folders/c3/4jwj2hy164s7ghr3rk_vnv9c0000gn/T/ipykernel_57647/1630145182.py:128: FutureWarning: The default value of regex will change from True to False in a future version. In addition, single character regular expressions will *not* be treated as literal strings when regex=True.\n",
      "  lines['Home_spread'] = lines['Home_spread'].str.replace('+', '')\n"
     ]
    },
    {
     "name": "stdout",
     "output_type": "stream",
     "text": [
      "9/9 [==============================] - 0s 883us/step\n"
     ]
    },
    {
     "name": "stderr",
     "output_type": "stream",
     "text": [
      "/var/folders/c3/4jwj2hy164s7ghr3rk_vnv9c0000gn/T/ipykernel_57647/1630145182.py:128: FutureWarning: The default value of regex will change from True to False in a future version. In addition, single character regular expressions will *not* be treated as literal strings when regex=True.\n",
      "  lines['Home_spread'] = lines['Home_spread'].str.replace('+', '')\n"
     ]
    },
    {
     "name": "stdout",
     "output_type": "stream",
     "text": [
      "9/9 [==============================] - 0s 945us/step\n"
     ]
    },
    {
     "name": "stderr",
     "output_type": "stream",
     "text": [
      "/var/folders/c3/4jwj2hy164s7ghr3rk_vnv9c0000gn/T/ipykernel_57647/1630145182.py:128: FutureWarning: The default value of regex will change from True to False in a future version. In addition, single character regular expressions will *not* be treated as literal strings when regex=True.\n",
      "  lines['Home_spread'] = lines['Home_spread'].str.replace('+', '')\n"
     ]
    },
    {
     "name": "stdout",
     "output_type": "stream",
     "text": [
      "9/9 [==============================] - 0s 916us/step\n"
     ]
    },
    {
     "name": "stderr",
     "output_type": "stream",
     "text": [
      "/var/folders/c3/4jwj2hy164s7ghr3rk_vnv9c0000gn/T/ipykernel_57647/1630145182.py:128: FutureWarning: The default value of regex will change from True to False in a future version. In addition, single character regular expressions will *not* be treated as literal strings when regex=True.\n",
      "  lines['Home_spread'] = lines['Home_spread'].str.replace('+', '')\n"
     ]
    },
    {
     "name": "stdout",
     "output_type": "stream",
     "text": [
      "9/9 [==============================] - 0s 919us/step\n"
     ]
    },
    {
     "name": "stderr",
     "output_type": "stream",
     "text": [
      "/var/folders/c3/4jwj2hy164s7ghr3rk_vnv9c0000gn/T/ipykernel_57647/1630145182.py:128: FutureWarning: The default value of regex will change from True to False in a future version. In addition, single character regular expressions will *not* be treated as literal strings when regex=True.\n",
      "  lines['Home_spread'] = lines['Home_spread'].str.replace('+', '')\n"
     ]
    },
    {
     "name": "stdout",
     "output_type": "stream",
     "text": [
      "9/9 [==============================] - 0s 918us/step\n"
     ]
    },
    {
     "name": "stderr",
     "output_type": "stream",
     "text": [
      "/var/folders/c3/4jwj2hy164s7ghr3rk_vnv9c0000gn/T/ipykernel_57647/1630145182.py:128: FutureWarning: The default value of regex will change from True to False in a future version. In addition, single character regular expressions will *not* be treated as literal strings when regex=True.\n",
      "  lines['Home_spread'] = lines['Home_spread'].str.replace('+', '')\n"
     ]
    },
    {
     "name": "stdout",
     "output_type": "stream",
     "text": [
      "9/9 [==============================] - 0s 914us/step\n",
      "Testing the value 8\n"
     ]
    },
    {
     "name": "stderr",
     "output_type": "stream",
     "text": [
      "/var/folders/c3/4jwj2hy164s7ghr3rk_vnv9c0000gn/T/ipykernel_57647/1630145182.py:128: FutureWarning: The default value of regex will change from True to False in a future version. In addition, single character regular expressions will *not* be treated as literal strings when regex=True.\n",
      "  lines['Home_spread'] = lines['Home_spread'].str.replace('+', '')\n"
     ]
    },
    {
     "name": "stdout",
     "output_type": "stream",
     "text": [
      "9/9 [==============================] - 0s 906us/step\n"
     ]
    },
    {
     "name": "stderr",
     "output_type": "stream",
     "text": [
      "/var/folders/c3/4jwj2hy164s7ghr3rk_vnv9c0000gn/T/ipykernel_57647/1630145182.py:128: FutureWarning: The default value of regex will change from True to False in a future version. In addition, single character regular expressions will *not* be treated as literal strings when regex=True.\n",
      "  lines['Home_spread'] = lines['Home_spread'].str.replace('+', '')\n"
     ]
    },
    {
     "name": "stdout",
     "output_type": "stream",
     "text": [
      "9/9 [==============================] - 0s 908us/step\n"
     ]
    },
    {
     "name": "stderr",
     "output_type": "stream",
     "text": [
      "/var/folders/c3/4jwj2hy164s7ghr3rk_vnv9c0000gn/T/ipykernel_57647/1630145182.py:128: FutureWarning: The default value of regex will change from True to False in a future version. In addition, single character regular expressions will *not* be treated as literal strings when regex=True.\n",
      "  lines['Home_spread'] = lines['Home_spread'].str.replace('+', '')\n"
     ]
    },
    {
     "name": "stdout",
     "output_type": "stream",
     "text": [
      "9/9 [==============================] - 0s 935us/step\n"
     ]
    },
    {
     "name": "stderr",
     "output_type": "stream",
     "text": [
      "/var/folders/c3/4jwj2hy164s7ghr3rk_vnv9c0000gn/T/ipykernel_57647/1630145182.py:128: FutureWarning: The default value of regex will change from True to False in a future version. In addition, single character regular expressions will *not* be treated as literal strings when regex=True.\n",
      "  lines['Home_spread'] = lines['Home_spread'].str.replace('+', '')\n"
     ]
    },
    {
     "name": "stdout",
     "output_type": "stream",
     "text": [
      "9/9 [==============================] - 0s 945us/step\n"
     ]
    },
    {
     "name": "stderr",
     "output_type": "stream",
     "text": [
      "/var/folders/c3/4jwj2hy164s7ghr3rk_vnv9c0000gn/T/ipykernel_57647/1630145182.py:128: FutureWarning: The default value of regex will change from True to False in a future version. In addition, single character regular expressions will *not* be treated as literal strings when regex=True.\n",
      "  lines['Home_spread'] = lines['Home_spread'].str.replace('+', '')\n"
     ]
    },
    {
     "name": "stdout",
     "output_type": "stream",
     "text": [
      "9/9 [==============================] - 0s 892us/step\n"
     ]
    },
    {
     "name": "stderr",
     "output_type": "stream",
     "text": [
      "/var/folders/c3/4jwj2hy164s7ghr3rk_vnv9c0000gn/T/ipykernel_57647/1630145182.py:128: FutureWarning: The default value of regex will change from True to False in a future version. In addition, single character regular expressions will *not* be treated as literal strings when regex=True.\n",
      "  lines['Home_spread'] = lines['Home_spread'].str.replace('+', '')\n"
     ]
    },
    {
     "name": "stdout",
     "output_type": "stream",
     "text": [
      "9/9 [==============================] - 0s 892us/step\n"
     ]
    },
    {
     "name": "stderr",
     "output_type": "stream",
     "text": [
      "/var/folders/c3/4jwj2hy164s7ghr3rk_vnv9c0000gn/T/ipykernel_57647/1630145182.py:128: FutureWarning: The default value of regex will change from True to False in a future version. In addition, single character regular expressions will *not* be treated as literal strings when regex=True.\n",
      "  lines['Home_spread'] = lines['Home_spread'].str.replace('+', '')\n"
     ]
    },
    {
     "name": "stdout",
     "output_type": "stream",
     "text": [
      "9/9 [==============================] - 0s 892us/step\n"
     ]
    },
    {
     "name": "stderr",
     "output_type": "stream",
     "text": [
      "/var/folders/c3/4jwj2hy164s7ghr3rk_vnv9c0000gn/T/ipykernel_57647/1630145182.py:128: FutureWarning: The default value of regex will change from True to False in a future version. In addition, single character regular expressions will *not* be treated as literal strings when regex=True.\n",
      "  lines['Home_spread'] = lines['Home_spread'].str.replace('+', '')\n"
     ]
    },
    {
     "name": "stdout",
     "output_type": "stream",
     "text": [
      "9/9 [==============================] - 0s 877us/step\n",
      "Testing the value 9\n"
     ]
    },
    {
     "name": "stderr",
     "output_type": "stream",
     "text": [
      "/var/folders/c3/4jwj2hy164s7ghr3rk_vnv9c0000gn/T/ipykernel_57647/1630145182.py:128: FutureWarning: The default value of regex will change from True to False in a future version. In addition, single character regular expressions will *not* be treated as literal strings when regex=True.\n",
      "  lines['Home_spread'] = lines['Home_spread'].str.replace('+', '')\n"
     ]
    },
    {
     "name": "stdout",
     "output_type": "stream",
     "text": [
      "9/9 [==============================] - 0s 884us/step\n"
     ]
    },
    {
     "name": "stderr",
     "output_type": "stream",
     "text": [
      "/var/folders/c3/4jwj2hy164s7ghr3rk_vnv9c0000gn/T/ipykernel_57647/1630145182.py:128: FutureWarning: The default value of regex will change from True to False in a future version. In addition, single character regular expressions will *not* be treated as literal strings when regex=True.\n",
      "  lines['Home_spread'] = lines['Home_spread'].str.replace('+', '')\n"
     ]
    },
    {
     "name": "stdout",
     "output_type": "stream",
     "text": [
      "9/9 [==============================] - 0s 915us/step\n"
     ]
    },
    {
     "name": "stderr",
     "output_type": "stream",
     "text": [
      "/var/folders/c3/4jwj2hy164s7ghr3rk_vnv9c0000gn/T/ipykernel_57647/1630145182.py:128: FutureWarning: The default value of regex will change from True to False in a future version. In addition, single character regular expressions will *not* be treated as literal strings when regex=True.\n",
      "  lines['Home_spread'] = lines['Home_spread'].str.replace('+', '')\n"
     ]
    },
    {
     "name": "stdout",
     "output_type": "stream",
     "text": [
      "9/9 [==============================] - 0s 905us/step\n"
     ]
    },
    {
     "name": "stderr",
     "output_type": "stream",
     "text": [
      "/var/folders/c3/4jwj2hy164s7ghr3rk_vnv9c0000gn/T/ipykernel_57647/1630145182.py:128: FutureWarning: The default value of regex will change from True to False in a future version. In addition, single character regular expressions will *not* be treated as literal strings when regex=True.\n",
      "  lines['Home_spread'] = lines['Home_spread'].str.replace('+', '')\n"
     ]
    },
    {
     "name": "stdout",
     "output_type": "stream",
     "text": [
      "9/9 [==============================] - 0s 898us/step\n"
     ]
    },
    {
     "name": "stderr",
     "output_type": "stream",
     "text": [
      "/var/folders/c3/4jwj2hy164s7ghr3rk_vnv9c0000gn/T/ipykernel_57647/1630145182.py:128: FutureWarning: The default value of regex will change from True to False in a future version. In addition, single character regular expressions will *not* be treated as literal strings when regex=True.\n",
      "  lines['Home_spread'] = lines['Home_spread'].str.replace('+', '')\n"
     ]
    },
    {
     "name": "stdout",
     "output_type": "stream",
     "text": [
      "9/9 [==============================] - 0s 902us/step\n"
     ]
    },
    {
     "name": "stderr",
     "output_type": "stream",
     "text": [
      "/var/folders/c3/4jwj2hy164s7ghr3rk_vnv9c0000gn/T/ipykernel_57647/1630145182.py:128: FutureWarning: The default value of regex will change from True to False in a future version. In addition, single character regular expressions will *not* be treated as literal strings when regex=True.\n",
      "  lines['Home_spread'] = lines['Home_spread'].str.replace('+', '')\n"
     ]
    },
    {
     "name": "stdout",
     "output_type": "stream",
     "text": [
      "9/9 [==============================] - 0s 900us/step\n"
     ]
    },
    {
     "name": "stderr",
     "output_type": "stream",
     "text": [
      "/var/folders/c3/4jwj2hy164s7ghr3rk_vnv9c0000gn/T/ipykernel_57647/1630145182.py:128: FutureWarning: The default value of regex will change from True to False in a future version. In addition, single character regular expressions will *not* be treated as literal strings when regex=True.\n",
      "  lines['Home_spread'] = lines['Home_spread'].str.replace('+', '')\n"
     ]
    },
    {
     "name": "stdout",
     "output_type": "stream",
     "text": [
      "9/9 [==============================] - 0s 922us/step\n"
     ]
    },
    {
     "name": "stderr",
     "output_type": "stream",
     "text": [
      "/var/folders/c3/4jwj2hy164s7ghr3rk_vnv9c0000gn/T/ipykernel_57647/1630145182.py:128: FutureWarning: The default value of regex will change from True to False in a future version. In addition, single character regular expressions will *not* be treated as literal strings when regex=True.\n",
      "  lines['Home_spread'] = lines['Home_spread'].str.replace('+', '')\n"
     ]
    },
    {
     "name": "stdout",
     "output_type": "stream",
     "text": [
      "9/9 [==============================] - 0s 902us/step\n",
      "Testing the value 10\n"
     ]
    },
    {
     "name": "stderr",
     "output_type": "stream",
     "text": [
      "/var/folders/c3/4jwj2hy164s7ghr3rk_vnv9c0000gn/T/ipykernel_57647/1630145182.py:128: FutureWarning: The default value of regex will change from True to False in a future version. In addition, single character regular expressions will *not* be treated as literal strings when regex=True.\n",
      "  lines['Home_spread'] = lines['Home_spread'].str.replace('+', '')\n"
     ]
    },
    {
     "name": "stdout",
     "output_type": "stream",
     "text": [
      "9/9 [==============================] - 0s 881us/step\n"
     ]
    },
    {
     "name": "stderr",
     "output_type": "stream",
     "text": [
      "/var/folders/c3/4jwj2hy164s7ghr3rk_vnv9c0000gn/T/ipykernel_57647/1630145182.py:128: FutureWarning: The default value of regex will change from True to False in a future version. In addition, single character regular expressions will *not* be treated as literal strings when regex=True.\n",
      "  lines['Home_spread'] = lines['Home_spread'].str.replace('+', '')\n"
     ]
    },
    {
     "name": "stdout",
     "output_type": "stream",
     "text": [
      "9/9 [==============================] - 0s 896us/step\n"
     ]
    },
    {
     "name": "stderr",
     "output_type": "stream",
     "text": [
      "/var/folders/c3/4jwj2hy164s7ghr3rk_vnv9c0000gn/T/ipykernel_57647/1630145182.py:128: FutureWarning: The default value of regex will change from True to False in a future version. In addition, single character regular expressions will *not* be treated as literal strings when regex=True.\n",
      "  lines['Home_spread'] = lines['Home_spread'].str.replace('+', '')\n"
     ]
    },
    {
     "name": "stdout",
     "output_type": "stream",
     "text": [
      "9/9 [==============================] - 0s 906us/step\n"
     ]
    },
    {
     "name": "stderr",
     "output_type": "stream",
     "text": [
      "/var/folders/c3/4jwj2hy164s7ghr3rk_vnv9c0000gn/T/ipykernel_57647/1630145182.py:128: FutureWarning: The default value of regex will change from True to False in a future version. In addition, single character regular expressions will *not* be treated as literal strings when regex=True.\n",
      "  lines['Home_spread'] = lines['Home_spread'].str.replace('+', '')\n"
     ]
    },
    {
     "name": "stdout",
     "output_type": "stream",
     "text": [
      "9/9 [==============================] - 0s 916us/step\n"
     ]
    },
    {
     "name": "stderr",
     "output_type": "stream",
     "text": [
      "/var/folders/c3/4jwj2hy164s7ghr3rk_vnv9c0000gn/T/ipykernel_57647/1630145182.py:128: FutureWarning: The default value of regex will change from True to False in a future version. In addition, single character regular expressions will *not* be treated as literal strings when regex=True.\n",
      "  lines['Home_spread'] = lines['Home_spread'].str.replace('+', '')\n"
     ]
    },
    {
     "name": "stdout",
     "output_type": "stream",
     "text": [
      "9/9 [==============================] - 0s 891us/step\n"
     ]
    },
    {
     "name": "stderr",
     "output_type": "stream",
     "text": [
      "/var/folders/c3/4jwj2hy164s7ghr3rk_vnv9c0000gn/T/ipykernel_57647/1630145182.py:128: FutureWarning: The default value of regex will change from True to False in a future version. In addition, single character regular expressions will *not* be treated as literal strings when regex=True.\n",
      "  lines['Home_spread'] = lines['Home_spread'].str.replace('+', '')\n"
     ]
    },
    {
     "name": "stdout",
     "output_type": "stream",
     "text": [
      "9/9 [==============================] - 0s 900us/step\n"
     ]
    },
    {
     "name": "stderr",
     "output_type": "stream",
     "text": [
      "/var/folders/c3/4jwj2hy164s7ghr3rk_vnv9c0000gn/T/ipykernel_57647/1630145182.py:128: FutureWarning: The default value of regex will change from True to False in a future version. In addition, single character regular expressions will *not* be treated as literal strings when regex=True.\n",
      "  lines['Home_spread'] = lines['Home_spread'].str.replace('+', '')\n"
     ]
    },
    {
     "name": "stdout",
     "output_type": "stream",
     "text": [
      "9/9 [==============================] - 0s 908us/step\n"
     ]
    },
    {
     "name": "stderr",
     "output_type": "stream",
     "text": [
      "/var/folders/c3/4jwj2hy164s7ghr3rk_vnv9c0000gn/T/ipykernel_57647/1630145182.py:128: FutureWarning: The default value of regex will change from True to False in a future version. In addition, single character regular expressions will *not* be treated as literal strings when regex=True.\n",
      "  lines['Home_spread'] = lines['Home_spread'].str.replace('+', '')\n"
     ]
    },
    {
     "name": "stdout",
     "output_type": "stream",
     "text": [
      "9/9 [==============================] - 0s 901us/step\n",
      "Testing the value 11\n"
     ]
    },
    {
     "name": "stderr",
     "output_type": "stream",
     "text": [
      "/var/folders/c3/4jwj2hy164s7ghr3rk_vnv9c0000gn/T/ipykernel_57647/1630145182.py:128: FutureWarning: The default value of regex will change from True to False in a future version. In addition, single character regular expressions will *not* be treated as literal strings when regex=True.\n",
      "  lines['Home_spread'] = lines['Home_spread'].str.replace('+', '')\n"
     ]
    },
    {
     "name": "stdout",
     "output_type": "stream",
     "text": [
      "9/9 [==============================] - 0s 930us/step\n"
     ]
    },
    {
     "name": "stderr",
     "output_type": "stream",
     "text": [
      "/var/folders/c3/4jwj2hy164s7ghr3rk_vnv9c0000gn/T/ipykernel_57647/1630145182.py:128: FutureWarning: The default value of regex will change from True to False in a future version. In addition, single character regular expressions will *not* be treated as literal strings when regex=True.\n",
      "  lines['Home_spread'] = lines['Home_spread'].str.replace('+', '')\n"
     ]
    },
    {
     "name": "stdout",
     "output_type": "stream",
     "text": [
      "9/9 [==============================] - 0s 907us/step\n"
     ]
    },
    {
     "name": "stderr",
     "output_type": "stream",
     "text": [
      "/var/folders/c3/4jwj2hy164s7ghr3rk_vnv9c0000gn/T/ipykernel_57647/1630145182.py:128: FutureWarning: The default value of regex will change from True to False in a future version. In addition, single character regular expressions will *not* be treated as literal strings when regex=True.\n",
      "  lines['Home_spread'] = lines['Home_spread'].str.replace('+', '')\n"
     ]
    },
    {
     "name": "stdout",
     "output_type": "stream",
     "text": [
      "9/9 [==============================] - 0s 879us/step\n"
     ]
    },
    {
     "name": "stderr",
     "output_type": "stream",
     "text": [
      "/var/folders/c3/4jwj2hy164s7ghr3rk_vnv9c0000gn/T/ipykernel_57647/1630145182.py:128: FutureWarning: The default value of regex will change from True to False in a future version. In addition, single character regular expressions will *not* be treated as literal strings when regex=True.\n",
      "  lines['Home_spread'] = lines['Home_spread'].str.replace('+', '')\n"
     ]
    },
    {
     "name": "stdout",
     "output_type": "stream",
     "text": [
      "9/9 [==============================] - 0s 1ms/step\n"
     ]
    },
    {
     "name": "stderr",
     "output_type": "stream",
     "text": [
      "/var/folders/c3/4jwj2hy164s7ghr3rk_vnv9c0000gn/T/ipykernel_57647/1630145182.py:128: FutureWarning: The default value of regex will change from True to False in a future version. In addition, single character regular expressions will *not* be treated as literal strings when regex=True.\n",
      "  lines['Home_spread'] = lines['Home_spread'].str.replace('+', '')\n"
     ]
    },
    {
     "name": "stdout",
     "output_type": "stream",
     "text": [
      "9/9 [==============================] - 0s 911us/step\n"
     ]
    },
    {
     "name": "stderr",
     "output_type": "stream",
     "text": [
      "/var/folders/c3/4jwj2hy164s7ghr3rk_vnv9c0000gn/T/ipykernel_57647/1630145182.py:128: FutureWarning: The default value of regex will change from True to False in a future version. In addition, single character regular expressions will *not* be treated as literal strings when regex=True.\n",
      "  lines['Home_spread'] = lines['Home_spread'].str.replace('+', '')\n"
     ]
    },
    {
     "name": "stdout",
     "output_type": "stream",
     "text": [
      "9/9 [==============================] - 0s 891us/step\n"
     ]
    },
    {
     "name": "stderr",
     "output_type": "stream",
     "text": [
      "/var/folders/c3/4jwj2hy164s7ghr3rk_vnv9c0000gn/T/ipykernel_57647/1630145182.py:128: FutureWarning: The default value of regex will change from True to False in a future version. In addition, single character regular expressions will *not* be treated as literal strings when regex=True.\n",
      "  lines['Home_spread'] = lines['Home_spread'].str.replace('+', '')\n"
     ]
    },
    {
     "name": "stdout",
     "output_type": "stream",
     "text": [
      "9/9 [==============================] - 0s 915us/step\n"
     ]
    },
    {
     "name": "stderr",
     "output_type": "stream",
     "text": [
      "/var/folders/c3/4jwj2hy164s7ghr3rk_vnv9c0000gn/T/ipykernel_57647/1630145182.py:128: FutureWarning: The default value of regex will change from True to False in a future version. In addition, single character regular expressions will *not* be treated as literal strings when regex=True.\n",
      "  lines['Home_spread'] = lines['Home_spread'].str.replace('+', '')\n"
     ]
    },
    {
     "name": "stdout",
     "output_type": "stream",
     "text": [
      "9/9 [==============================] - 0s 918us/step\n",
      "Testing the value 12\n"
     ]
    },
    {
     "name": "stderr",
     "output_type": "stream",
     "text": [
      "/var/folders/c3/4jwj2hy164s7ghr3rk_vnv9c0000gn/T/ipykernel_57647/1630145182.py:128: FutureWarning: The default value of regex will change from True to False in a future version. In addition, single character regular expressions will *not* be treated as literal strings when regex=True.\n",
      "  lines['Home_spread'] = lines['Home_spread'].str.replace('+', '')\n"
     ]
    },
    {
     "name": "stdout",
     "output_type": "stream",
     "text": [
      "9/9 [==============================] - 0s 927us/step\n"
     ]
    },
    {
     "name": "stderr",
     "output_type": "stream",
     "text": [
      "/var/folders/c3/4jwj2hy164s7ghr3rk_vnv9c0000gn/T/ipykernel_57647/1630145182.py:128: FutureWarning: The default value of regex will change from True to False in a future version. In addition, single character regular expressions will *not* be treated as literal strings when regex=True.\n",
      "  lines['Home_spread'] = lines['Home_spread'].str.replace('+', '')\n"
     ]
    },
    {
     "name": "stdout",
     "output_type": "stream",
     "text": [
      "9/9 [==============================] - 0s 910us/step\n"
     ]
    },
    {
     "name": "stderr",
     "output_type": "stream",
     "text": [
      "/var/folders/c3/4jwj2hy164s7ghr3rk_vnv9c0000gn/T/ipykernel_57647/1630145182.py:128: FutureWarning: The default value of regex will change from True to False in a future version. In addition, single character regular expressions will *not* be treated as literal strings when regex=True.\n",
      "  lines['Home_spread'] = lines['Home_spread'].str.replace('+', '')\n"
     ]
    },
    {
     "name": "stdout",
     "output_type": "stream",
     "text": [
      "9/9 [==============================] - 0s 899us/step\n"
     ]
    },
    {
     "name": "stderr",
     "output_type": "stream",
     "text": [
      "/var/folders/c3/4jwj2hy164s7ghr3rk_vnv9c0000gn/T/ipykernel_57647/1630145182.py:128: FutureWarning: The default value of regex will change from True to False in a future version. In addition, single character regular expressions will *not* be treated as literal strings when regex=True.\n",
      "  lines['Home_spread'] = lines['Home_spread'].str.replace('+', '')\n"
     ]
    },
    {
     "name": "stdout",
     "output_type": "stream",
     "text": [
      "9/9 [==============================] - 0s 894us/step\n"
     ]
    },
    {
     "name": "stderr",
     "output_type": "stream",
     "text": [
      "/var/folders/c3/4jwj2hy164s7ghr3rk_vnv9c0000gn/T/ipykernel_57647/1630145182.py:128: FutureWarning: The default value of regex will change from True to False in a future version. In addition, single character regular expressions will *not* be treated as literal strings when regex=True.\n",
      "  lines['Home_spread'] = lines['Home_spread'].str.replace('+', '')\n"
     ]
    },
    {
     "name": "stdout",
     "output_type": "stream",
     "text": [
      "9/9 [==============================] - 0s 914us/step\n"
     ]
    },
    {
     "name": "stderr",
     "output_type": "stream",
     "text": [
      "/var/folders/c3/4jwj2hy164s7ghr3rk_vnv9c0000gn/T/ipykernel_57647/1630145182.py:128: FutureWarning: The default value of regex will change from True to False in a future version. In addition, single character regular expressions will *not* be treated as literal strings when regex=True.\n",
      "  lines['Home_spread'] = lines['Home_spread'].str.replace('+', '')\n"
     ]
    },
    {
     "name": "stdout",
     "output_type": "stream",
     "text": [
      "9/9 [==============================] - 0s 897us/step\n"
     ]
    },
    {
     "name": "stderr",
     "output_type": "stream",
     "text": [
      "/var/folders/c3/4jwj2hy164s7ghr3rk_vnv9c0000gn/T/ipykernel_57647/1630145182.py:128: FutureWarning: The default value of regex will change from True to False in a future version. In addition, single character regular expressions will *not* be treated as literal strings when regex=True.\n",
      "  lines['Home_spread'] = lines['Home_spread'].str.replace('+', '')\n"
     ]
    },
    {
     "name": "stdout",
     "output_type": "stream",
     "text": [
      "9/9 [==============================] - 0s 934us/step\n"
     ]
    },
    {
     "name": "stderr",
     "output_type": "stream",
     "text": [
      "/var/folders/c3/4jwj2hy164s7ghr3rk_vnv9c0000gn/T/ipykernel_57647/1630145182.py:128: FutureWarning: The default value of regex will change from True to False in a future version. In addition, single character regular expressions will *not* be treated as literal strings when regex=True.\n",
      "  lines['Home_spread'] = lines['Home_spread'].str.replace('+', '')\n"
     ]
    },
    {
     "name": "stdout",
     "output_type": "stream",
     "text": [
      "9/9 [==============================] - 0s 915us/step\n",
      "Testing the value 13\n"
     ]
    },
    {
     "name": "stderr",
     "output_type": "stream",
     "text": [
      "/var/folders/c3/4jwj2hy164s7ghr3rk_vnv9c0000gn/T/ipykernel_57647/1630145182.py:128: FutureWarning: The default value of regex will change from True to False in a future version. In addition, single character regular expressions will *not* be treated as literal strings when regex=True.\n",
      "  lines['Home_spread'] = lines['Home_spread'].str.replace('+', '')\n"
     ]
    },
    {
     "name": "stdout",
     "output_type": "stream",
     "text": [
      "9/9 [==============================] - 0s 887us/step\n"
     ]
    },
    {
     "name": "stderr",
     "output_type": "stream",
     "text": [
      "/var/folders/c3/4jwj2hy164s7ghr3rk_vnv9c0000gn/T/ipykernel_57647/1630145182.py:128: FutureWarning: The default value of regex will change from True to False in a future version. In addition, single character regular expressions will *not* be treated as literal strings when regex=True.\n",
      "  lines['Home_spread'] = lines['Home_spread'].str.replace('+', '')\n"
     ]
    },
    {
     "name": "stdout",
     "output_type": "stream",
     "text": [
      "9/9 [==============================] - 0s 918us/step\n"
     ]
    },
    {
     "name": "stderr",
     "output_type": "stream",
     "text": [
      "/var/folders/c3/4jwj2hy164s7ghr3rk_vnv9c0000gn/T/ipykernel_57647/1630145182.py:128: FutureWarning: The default value of regex will change from True to False in a future version. In addition, single character regular expressions will *not* be treated as literal strings when regex=True.\n",
      "  lines['Home_spread'] = lines['Home_spread'].str.replace('+', '')\n"
     ]
    },
    {
     "name": "stdout",
     "output_type": "stream",
     "text": [
      "9/9 [==============================] - 0s 926us/step\n"
     ]
    },
    {
     "name": "stderr",
     "output_type": "stream",
     "text": [
      "/var/folders/c3/4jwj2hy164s7ghr3rk_vnv9c0000gn/T/ipykernel_57647/1630145182.py:128: FutureWarning: The default value of regex will change from True to False in a future version. In addition, single character regular expressions will *not* be treated as literal strings when regex=True.\n",
      "  lines['Home_spread'] = lines['Home_spread'].str.replace('+', '')\n"
     ]
    },
    {
     "name": "stdout",
     "output_type": "stream",
     "text": [
      "9/9 [==============================] - 0s 885us/step\n"
     ]
    },
    {
     "name": "stderr",
     "output_type": "stream",
     "text": [
      "/var/folders/c3/4jwj2hy164s7ghr3rk_vnv9c0000gn/T/ipykernel_57647/1630145182.py:128: FutureWarning: The default value of regex will change from True to False in a future version. In addition, single character regular expressions will *not* be treated as literal strings when regex=True.\n",
      "  lines['Home_spread'] = lines['Home_spread'].str.replace('+', '')\n"
     ]
    },
    {
     "name": "stdout",
     "output_type": "stream",
     "text": [
      "9/9 [==============================] - 0s 887us/step\n"
     ]
    },
    {
     "name": "stderr",
     "output_type": "stream",
     "text": [
      "/var/folders/c3/4jwj2hy164s7ghr3rk_vnv9c0000gn/T/ipykernel_57647/1630145182.py:128: FutureWarning: The default value of regex will change from True to False in a future version. In addition, single character regular expressions will *not* be treated as literal strings when regex=True.\n",
      "  lines['Home_spread'] = lines['Home_spread'].str.replace('+', '')\n"
     ]
    },
    {
     "name": "stdout",
     "output_type": "stream",
     "text": [
      "9/9 [==============================] - 0s 895us/step\n"
     ]
    },
    {
     "name": "stderr",
     "output_type": "stream",
     "text": [
      "/var/folders/c3/4jwj2hy164s7ghr3rk_vnv9c0000gn/T/ipykernel_57647/1630145182.py:128: FutureWarning: The default value of regex will change from True to False in a future version. In addition, single character regular expressions will *not* be treated as literal strings when regex=True.\n",
      "  lines['Home_spread'] = lines['Home_spread'].str.replace('+', '')\n"
     ]
    },
    {
     "name": "stdout",
     "output_type": "stream",
     "text": [
      "9/9 [==============================] - 0s 897us/step\n"
     ]
    },
    {
     "name": "stderr",
     "output_type": "stream",
     "text": [
      "/var/folders/c3/4jwj2hy164s7ghr3rk_vnv9c0000gn/T/ipykernel_57647/1630145182.py:128: FutureWarning: The default value of regex will change from True to False in a future version. In addition, single character regular expressions will *not* be treated as literal strings when regex=True.\n",
      "  lines['Home_spread'] = lines['Home_spread'].str.replace('+', '')\n"
     ]
    },
    {
     "name": "stdout",
     "output_type": "stream",
     "text": [
      "9/9 [==============================] - 0s 925us/step\n",
      "Testing the value 14\n"
     ]
    },
    {
     "name": "stderr",
     "output_type": "stream",
     "text": [
      "/var/folders/c3/4jwj2hy164s7ghr3rk_vnv9c0000gn/T/ipykernel_57647/1630145182.py:128: FutureWarning: The default value of regex will change from True to False in a future version. In addition, single character regular expressions will *not* be treated as literal strings when regex=True.\n",
      "  lines['Home_spread'] = lines['Home_spread'].str.replace('+', '')\n"
     ]
    },
    {
     "name": "stdout",
     "output_type": "stream",
     "text": [
      "9/9 [==============================] - 0s 894us/step\n"
     ]
    },
    {
     "name": "stderr",
     "output_type": "stream",
     "text": [
      "/var/folders/c3/4jwj2hy164s7ghr3rk_vnv9c0000gn/T/ipykernel_57647/1630145182.py:128: FutureWarning: The default value of regex will change from True to False in a future version. In addition, single character regular expressions will *not* be treated as literal strings when regex=True.\n",
      "  lines['Home_spread'] = lines['Home_spread'].str.replace('+', '')\n"
     ]
    },
    {
     "name": "stdout",
     "output_type": "stream",
     "text": [
      "9/9 [==============================] - 0s 895us/step\n"
     ]
    },
    {
     "name": "stderr",
     "output_type": "stream",
     "text": [
      "/var/folders/c3/4jwj2hy164s7ghr3rk_vnv9c0000gn/T/ipykernel_57647/1630145182.py:128: FutureWarning: The default value of regex will change from True to False in a future version. In addition, single character regular expressions will *not* be treated as literal strings when regex=True.\n",
      "  lines['Home_spread'] = lines['Home_spread'].str.replace('+', '')\n"
     ]
    },
    {
     "name": "stdout",
     "output_type": "stream",
     "text": [
      "9/9 [==============================] - 0s 905us/step\n"
     ]
    },
    {
     "name": "stderr",
     "output_type": "stream",
     "text": [
      "/var/folders/c3/4jwj2hy164s7ghr3rk_vnv9c0000gn/T/ipykernel_57647/1630145182.py:128: FutureWarning: The default value of regex will change from True to False in a future version. In addition, single character regular expressions will *not* be treated as literal strings when regex=True.\n",
      "  lines['Home_spread'] = lines['Home_spread'].str.replace('+', '')\n"
     ]
    },
    {
     "name": "stdout",
     "output_type": "stream",
     "text": [
      "9/9 [==============================] - 0s 927us/step\n"
     ]
    },
    {
     "name": "stderr",
     "output_type": "stream",
     "text": [
      "/var/folders/c3/4jwj2hy164s7ghr3rk_vnv9c0000gn/T/ipykernel_57647/1630145182.py:128: FutureWarning: The default value of regex will change from True to False in a future version. In addition, single character regular expressions will *not* be treated as literal strings when regex=True.\n",
      "  lines['Home_spread'] = lines['Home_spread'].str.replace('+', '')\n"
     ]
    },
    {
     "name": "stdout",
     "output_type": "stream",
     "text": [
      "9/9 [==============================] - 0s 908us/step\n"
     ]
    },
    {
     "name": "stderr",
     "output_type": "stream",
     "text": [
      "/var/folders/c3/4jwj2hy164s7ghr3rk_vnv9c0000gn/T/ipykernel_57647/1630145182.py:128: FutureWarning: The default value of regex will change from True to False in a future version. In addition, single character regular expressions will *not* be treated as literal strings when regex=True.\n",
      "  lines['Home_spread'] = lines['Home_spread'].str.replace('+', '')\n"
     ]
    },
    {
     "name": "stdout",
     "output_type": "stream",
     "text": [
      "9/9 [==============================] - 0s 907us/step\n"
     ]
    },
    {
     "name": "stderr",
     "output_type": "stream",
     "text": [
      "/var/folders/c3/4jwj2hy164s7ghr3rk_vnv9c0000gn/T/ipykernel_57647/1630145182.py:128: FutureWarning: The default value of regex will change from True to False in a future version. In addition, single character regular expressions will *not* be treated as literal strings when regex=True.\n",
      "  lines['Home_spread'] = lines['Home_spread'].str.replace('+', '')\n"
     ]
    },
    {
     "name": "stdout",
     "output_type": "stream",
     "text": [
      "9/9 [==============================] - 0s 906us/step\n"
     ]
    },
    {
     "name": "stderr",
     "output_type": "stream",
     "text": [
      "/var/folders/c3/4jwj2hy164s7ghr3rk_vnv9c0000gn/T/ipykernel_57647/1630145182.py:128: FutureWarning: The default value of regex will change from True to False in a future version. In addition, single character regular expressions will *not* be treated as literal strings when regex=True.\n",
      "  lines['Home_spread'] = lines['Home_spread'].str.replace('+', '')\n"
     ]
    },
    {
     "name": "stdout",
     "output_type": "stream",
     "text": [
      "9/9 [==============================] - 0s 889us/step\n",
      "Testing the value 15\n"
     ]
    },
    {
     "name": "stderr",
     "output_type": "stream",
     "text": [
      "/var/folders/c3/4jwj2hy164s7ghr3rk_vnv9c0000gn/T/ipykernel_57647/1630145182.py:128: FutureWarning: The default value of regex will change from True to False in a future version. In addition, single character regular expressions will *not* be treated as literal strings when regex=True.\n",
      "  lines['Home_spread'] = lines['Home_spread'].str.replace('+', '')\n"
     ]
    },
    {
     "name": "stdout",
     "output_type": "stream",
     "text": [
      "9/9 [==============================] - 0s 899us/step\n"
     ]
    },
    {
     "name": "stderr",
     "output_type": "stream",
     "text": [
      "/var/folders/c3/4jwj2hy164s7ghr3rk_vnv9c0000gn/T/ipykernel_57647/1630145182.py:128: FutureWarning: The default value of regex will change from True to False in a future version. In addition, single character regular expressions will *not* be treated as literal strings when regex=True.\n",
      "  lines['Home_spread'] = lines['Home_spread'].str.replace('+', '')\n"
     ]
    },
    {
     "name": "stdout",
     "output_type": "stream",
     "text": [
      "9/9 [==============================] - 0s 882us/step\n"
     ]
    },
    {
     "name": "stderr",
     "output_type": "stream",
     "text": [
      "/var/folders/c3/4jwj2hy164s7ghr3rk_vnv9c0000gn/T/ipykernel_57647/1630145182.py:128: FutureWarning: The default value of regex will change from True to False in a future version. In addition, single character regular expressions will *not* be treated as literal strings when regex=True.\n",
      "  lines['Home_spread'] = lines['Home_spread'].str.replace('+', '')\n"
     ]
    },
    {
     "name": "stdout",
     "output_type": "stream",
     "text": [
      "9/9 [==============================] - 0s 969us/step\n"
     ]
    },
    {
     "name": "stderr",
     "output_type": "stream",
     "text": [
      "/var/folders/c3/4jwj2hy164s7ghr3rk_vnv9c0000gn/T/ipykernel_57647/1630145182.py:128: FutureWarning: The default value of regex will change from True to False in a future version. In addition, single character regular expressions will *not* be treated as literal strings when regex=True.\n",
      "  lines['Home_spread'] = lines['Home_spread'].str.replace('+', '')\n"
     ]
    },
    {
     "name": "stdout",
     "output_type": "stream",
     "text": [
      "9/9 [==============================] - 0s 920us/step\n"
     ]
    },
    {
     "name": "stderr",
     "output_type": "stream",
     "text": [
      "/var/folders/c3/4jwj2hy164s7ghr3rk_vnv9c0000gn/T/ipykernel_57647/1630145182.py:128: FutureWarning: The default value of regex will change from True to False in a future version. In addition, single character regular expressions will *not* be treated as literal strings when regex=True.\n",
      "  lines['Home_spread'] = lines['Home_spread'].str.replace('+', '')\n"
     ]
    },
    {
     "name": "stdout",
     "output_type": "stream",
     "text": [
      "9/9 [==============================] - 0s 913us/step\n"
     ]
    },
    {
     "name": "stderr",
     "output_type": "stream",
     "text": [
      "/var/folders/c3/4jwj2hy164s7ghr3rk_vnv9c0000gn/T/ipykernel_57647/1630145182.py:128: FutureWarning: The default value of regex will change from True to False in a future version. In addition, single character regular expressions will *not* be treated as literal strings when regex=True.\n",
      "  lines['Home_spread'] = lines['Home_spread'].str.replace('+', '')\n"
     ]
    },
    {
     "name": "stdout",
     "output_type": "stream",
     "text": [
      "9/9 [==============================] - 0s 902us/step\n"
     ]
    },
    {
     "name": "stderr",
     "output_type": "stream",
     "text": [
      "/var/folders/c3/4jwj2hy164s7ghr3rk_vnv9c0000gn/T/ipykernel_57647/1630145182.py:128: FutureWarning: The default value of regex will change from True to False in a future version. In addition, single character regular expressions will *not* be treated as literal strings when regex=True.\n",
      "  lines['Home_spread'] = lines['Home_spread'].str.replace('+', '')\n"
     ]
    },
    {
     "name": "stdout",
     "output_type": "stream",
     "text": [
      "9/9 [==============================] - 0s 919us/step\n"
     ]
    },
    {
     "name": "stderr",
     "output_type": "stream",
     "text": [
      "/var/folders/c3/4jwj2hy164s7ghr3rk_vnv9c0000gn/T/ipykernel_57647/1630145182.py:128: FutureWarning: The default value of regex will change from True to False in a future version. In addition, single character regular expressions will *not* be treated as literal strings when regex=True.\n",
      "  lines['Home_spread'] = lines['Home_spread'].str.replace('+', '')\n"
     ]
    },
    {
     "name": "stdout",
     "output_type": "stream",
     "text": [
      "9/9 [==============================] - 0s 885us/step\n",
      "Testing the value 16\n"
     ]
    },
    {
     "name": "stderr",
     "output_type": "stream",
     "text": [
      "/var/folders/c3/4jwj2hy164s7ghr3rk_vnv9c0000gn/T/ipykernel_57647/1630145182.py:128: FutureWarning: The default value of regex will change from True to False in a future version. In addition, single character regular expressions will *not* be treated as literal strings when regex=True.\n",
      "  lines['Home_spread'] = lines['Home_spread'].str.replace('+', '')\n"
     ]
    },
    {
     "name": "stdout",
     "output_type": "stream",
     "text": [
      "9/9 [==============================] - 0s 903us/step\n"
     ]
    },
    {
     "name": "stderr",
     "output_type": "stream",
     "text": [
      "/var/folders/c3/4jwj2hy164s7ghr3rk_vnv9c0000gn/T/ipykernel_57647/1630145182.py:128: FutureWarning: The default value of regex will change from True to False in a future version. In addition, single character regular expressions will *not* be treated as literal strings when regex=True.\n",
      "  lines['Home_spread'] = lines['Home_spread'].str.replace('+', '')\n"
     ]
    },
    {
     "name": "stdout",
     "output_type": "stream",
     "text": [
      "9/9 [==============================] - 0s 884us/step\n"
     ]
    },
    {
     "name": "stderr",
     "output_type": "stream",
     "text": [
      "/var/folders/c3/4jwj2hy164s7ghr3rk_vnv9c0000gn/T/ipykernel_57647/1630145182.py:128: FutureWarning: The default value of regex will change from True to False in a future version. In addition, single character regular expressions will *not* be treated as literal strings when regex=True.\n",
      "  lines['Home_spread'] = lines['Home_spread'].str.replace('+', '')\n"
     ]
    },
    {
     "name": "stdout",
     "output_type": "stream",
     "text": [
      "9/9 [==============================] - 0s 913us/step\n"
     ]
    },
    {
     "name": "stderr",
     "output_type": "stream",
     "text": [
      "/var/folders/c3/4jwj2hy164s7ghr3rk_vnv9c0000gn/T/ipykernel_57647/1630145182.py:128: FutureWarning: The default value of regex will change from True to False in a future version. In addition, single character regular expressions will *not* be treated as literal strings when regex=True.\n",
      "  lines['Home_spread'] = lines['Home_spread'].str.replace('+', '')\n"
     ]
    },
    {
     "name": "stdout",
     "output_type": "stream",
     "text": [
      "9/9 [==============================] - 0s 913us/step\n"
     ]
    },
    {
     "name": "stderr",
     "output_type": "stream",
     "text": [
      "/var/folders/c3/4jwj2hy164s7ghr3rk_vnv9c0000gn/T/ipykernel_57647/1630145182.py:128: FutureWarning: The default value of regex will change from True to False in a future version. In addition, single character regular expressions will *not* be treated as literal strings when regex=True.\n",
      "  lines['Home_spread'] = lines['Home_spread'].str.replace('+', '')\n"
     ]
    },
    {
     "name": "stdout",
     "output_type": "stream",
     "text": [
      "9/9 [==============================] - 0s 903us/step\n"
     ]
    },
    {
     "name": "stderr",
     "output_type": "stream",
     "text": [
      "/var/folders/c3/4jwj2hy164s7ghr3rk_vnv9c0000gn/T/ipykernel_57647/1630145182.py:128: FutureWarning: The default value of regex will change from True to False in a future version. In addition, single character regular expressions will *not* be treated as literal strings when regex=True.\n",
      "  lines['Home_spread'] = lines['Home_spread'].str.replace('+', '')\n"
     ]
    },
    {
     "name": "stdout",
     "output_type": "stream",
     "text": [
      "9/9 [==============================] - 0s 908us/step\n"
     ]
    },
    {
     "name": "stderr",
     "output_type": "stream",
     "text": [
      "/var/folders/c3/4jwj2hy164s7ghr3rk_vnv9c0000gn/T/ipykernel_57647/1630145182.py:128: FutureWarning: The default value of regex will change from True to False in a future version. In addition, single character regular expressions will *not* be treated as literal strings when regex=True.\n",
      "  lines['Home_spread'] = lines['Home_spread'].str.replace('+', '')\n"
     ]
    },
    {
     "name": "stdout",
     "output_type": "stream",
     "text": [
      "9/9 [==============================] - 0s 898us/step\n"
     ]
    },
    {
     "name": "stderr",
     "output_type": "stream",
     "text": [
      "/var/folders/c3/4jwj2hy164s7ghr3rk_vnv9c0000gn/T/ipykernel_57647/1630145182.py:128: FutureWarning: The default value of regex will change from True to False in a future version. In addition, single character regular expressions will *not* be treated as literal strings when regex=True.\n",
      "  lines['Home_spread'] = lines['Home_spread'].str.replace('+', '')\n"
     ]
    },
    {
     "name": "stdout",
     "output_type": "stream",
     "text": [
      "9/9 [==============================] - 0s 898us/step\n",
      "Testing the value 17\n"
     ]
    },
    {
     "name": "stderr",
     "output_type": "stream",
     "text": [
      "/var/folders/c3/4jwj2hy164s7ghr3rk_vnv9c0000gn/T/ipykernel_57647/1630145182.py:128: FutureWarning: The default value of regex will change from True to False in a future version. In addition, single character regular expressions will *not* be treated as literal strings when regex=True.\n",
      "  lines['Home_spread'] = lines['Home_spread'].str.replace('+', '')\n"
     ]
    },
    {
     "name": "stdout",
     "output_type": "stream",
     "text": [
      "9/9 [==============================] - 0s 894us/step\n"
     ]
    },
    {
     "name": "stderr",
     "output_type": "stream",
     "text": [
      "/var/folders/c3/4jwj2hy164s7ghr3rk_vnv9c0000gn/T/ipykernel_57647/1630145182.py:128: FutureWarning: The default value of regex will change from True to False in a future version. In addition, single character regular expressions will *not* be treated as literal strings when regex=True.\n",
      "  lines['Home_spread'] = lines['Home_spread'].str.replace('+', '')\n"
     ]
    },
    {
     "name": "stdout",
     "output_type": "stream",
     "text": [
      "9/9 [==============================] - 0s 896us/step\n"
     ]
    },
    {
     "name": "stderr",
     "output_type": "stream",
     "text": [
      "/var/folders/c3/4jwj2hy164s7ghr3rk_vnv9c0000gn/T/ipykernel_57647/1630145182.py:128: FutureWarning: The default value of regex will change from True to False in a future version. In addition, single character regular expressions will *not* be treated as literal strings when regex=True.\n",
      "  lines['Home_spread'] = lines['Home_spread'].str.replace('+', '')\n"
     ]
    },
    {
     "name": "stdout",
     "output_type": "stream",
     "text": [
      "9/9 [==============================] - 0s 888us/step\n"
     ]
    },
    {
     "name": "stderr",
     "output_type": "stream",
     "text": [
      "/var/folders/c3/4jwj2hy164s7ghr3rk_vnv9c0000gn/T/ipykernel_57647/1630145182.py:128: FutureWarning: The default value of regex will change from True to False in a future version. In addition, single character regular expressions will *not* be treated as literal strings when regex=True.\n",
      "  lines['Home_spread'] = lines['Home_spread'].str.replace('+', '')\n"
     ]
    },
    {
     "name": "stdout",
     "output_type": "stream",
     "text": [
      "9/9 [==============================] - 0s 896us/step\n"
     ]
    },
    {
     "name": "stderr",
     "output_type": "stream",
     "text": [
      "/var/folders/c3/4jwj2hy164s7ghr3rk_vnv9c0000gn/T/ipykernel_57647/1630145182.py:128: FutureWarning: The default value of regex will change from True to False in a future version. In addition, single character regular expressions will *not* be treated as literal strings when regex=True.\n",
      "  lines['Home_spread'] = lines['Home_spread'].str.replace('+', '')\n"
     ]
    },
    {
     "name": "stdout",
     "output_type": "stream",
     "text": [
      "9/9 [==============================] - 0s 889us/step\n"
     ]
    },
    {
     "name": "stderr",
     "output_type": "stream",
     "text": [
      "/var/folders/c3/4jwj2hy164s7ghr3rk_vnv9c0000gn/T/ipykernel_57647/1630145182.py:128: FutureWarning: The default value of regex will change from True to False in a future version. In addition, single character regular expressions will *not* be treated as literal strings when regex=True.\n",
      "  lines['Home_spread'] = lines['Home_spread'].str.replace('+', '')\n"
     ]
    },
    {
     "name": "stdout",
     "output_type": "stream",
     "text": [
      "9/9 [==============================] - 0s 905us/step\n"
     ]
    },
    {
     "name": "stderr",
     "output_type": "stream",
     "text": [
      "/var/folders/c3/4jwj2hy164s7ghr3rk_vnv9c0000gn/T/ipykernel_57647/1630145182.py:128: FutureWarning: The default value of regex will change from True to False in a future version. In addition, single character regular expressions will *not* be treated as literal strings when regex=True.\n",
      "  lines['Home_spread'] = lines['Home_spread'].str.replace('+', '')\n"
     ]
    },
    {
     "name": "stdout",
     "output_type": "stream",
     "text": [
      "9/9 [==============================] - 0s 909us/step\n"
     ]
    },
    {
     "name": "stderr",
     "output_type": "stream",
     "text": [
      "/var/folders/c3/4jwj2hy164s7ghr3rk_vnv9c0000gn/T/ipykernel_57647/1630145182.py:128: FutureWarning: The default value of regex will change from True to False in a future version. In addition, single character regular expressions will *not* be treated as literal strings when regex=True.\n",
      "  lines['Home_spread'] = lines['Home_spread'].str.replace('+', '')\n"
     ]
    },
    {
     "name": "stdout",
     "output_type": "stream",
     "text": [
      "9/9 [==============================] - 0s 893us/step\n",
      "Testing the value 18\n"
     ]
    },
    {
     "name": "stderr",
     "output_type": "stream",
     "text": [
      "/var/folders/c3/4jwj2hy164s7ghr3rk_vnv9c0000gn/T/ipykernel_57647/1630145182.py:128: FutureWarning: The default value of regex will change from True to False in a future version. In addition, single character regular expressions will *not* be treated as literal strings when regex=True.\n",
      "  lines['Home_spread'] = lines['Home_spread'].str.replace('+', '')\n"
     ]
    },
    {
     "name": "stdout",
     "output_type": "stream",
     "text": [
      "9/9 [==============================] - 0s 934us/step\n"
     ]
    },
    {
     "name": "stderr",
     "output_type": "stream",
     "text": [
      "/var/folders/c3/4jwj2hy164s7ghr3rk_vnv9c0000gn/T/ipykernel_57647/1630145182.py:128: FutureWarning: The default value of regex will change from True to False in a future version. In addition, single character regular expressions will *not* be treated as literal strings when regex=True.\n",
      "  lines['Home_spread'] = lines['Home_spread'].str.replace('+', '')\n"
     ]
    },
    {
     "name": "stdout",
     "output_type": "stream",
     "text": [
      "9/9 [==============================] - 0s 887us/step\n"
     ]
    },
    {
     "name": "stderr",
     "output_type": "stream",
     "text": [
      "/var/folders/c3/4jwj2hy164s7ghr3rk_vnv9c0000gn/T/ipykernel_57647/1630145182.py:128: FutureWarning: The default value of regex will change from True to False in a future version. In addition, single character regular expressions will *not* be treated as literal strings when regex=True.\n",
      "  lines['Home_spread'] = lines['Home_spread'].str.replace('+', '')\n"
     ]
    },
    {
     "name": "stdout",
     "output_type": "stream",
     "text": [
      "9/9 [==============================] - 0s 880us/step\n"
     ]
    },
    {
     "name": "stderr",
     "output_type": "stream",
     "text": [
      "/var/folders/c3/4jwj2hy164s7ghr3rk_vnv9c0000gn/T/ipykernel_57647/1630145182.py:128: FutureWarning: The default value of regex will change from True to False in a future version. In addition, single character regular expressions will *not* be treated as literal strings when regex=True.\n",
      "  lines['Home_spread'] = lines['Home_spread'].str.replace('+', '')\n"
     ]
    },
    {
     "name": "stdout",
     "output_type": "stream",
     "text": [
      "9/9 [==============================] - 0s 894us/step\n"
     ]
    },
    {
     "name": "stderr",
     "output_type": "stream",
     "text": [
      "/var/folders/c3/4jwj2hy164s7ghr3rk_vnv9c0000gn/T/ipykernel_57647/1630145182.py:128: FutureWarning: The default value of regex will change from True to False in a future version. In addition, single character regular expressions will *not* be treated as literal strings when regex=True.\n",
      "  lines['Home_spread'] = lines['Home_spread'].str.replace('+', '')\n"
     ]
    },
    {
     "name": "stdout",
     "output_type": "stream",
     "text": [
      "9/9 [==============================] - 0s 907us/step\n"
     ]
    },
    {
     "name": "stderr",
     "output_type": "stream",
     "text": [
      "/var/folders/c3/4jwj2hy164s7ghr3rk_vnv9c0000gn/T/ipykernel_57647/1630145182.py:128: FutureWarning: The default value of regex will change from True to False in a future version. In addition, single character regular expressions will *not* be treated as literal strings when regex=True.\n",
      "  lines['Home_spread'] = lines['Home_spread'].str.replace('+', '')\n"
     ]
    },
    {
     "name": "stdout",
     "output_type": "stream",
     "text": [
      "9/9 [==============================] - 0s 899us/step\n"
     ]
    },
    {
     "name": "stderr",
     "output_type": "stream",
     "text": [
      "/var/folders/c3/4jwj2hy164s7ghr3rk_vnv9c0000gn/T/ipykernel_57647/1630145182.py:128: FutureWarning: The default value of regex will change from True to False in a future version. In addition, single character regular expressions will *not* be treated as literal strings when regex=True.\n",
      "  lines['Home_spread'] = lines['Home_spread'].str.replace('+', '')\n"
     ]
    },
    {
     "name": "stdout",
     "output_type": "stream",
     "text": [
      "9/9 [==============================] - 0s 883us/step\n"
     ]
    },
    {
     "name": "stderr",
     "output_type": "stream",
     "text": [
      "/var/folders/c3/4jwj2hy164s7ghr3rk_vnv9c0000gn/T/ipykernel_57647/1630145182.py:128: FutureWarning: The default value of regex will change from True to False in a future version. In addition, single character regular expressions will *not* be treated as literal strings when regex=True.\n",
      "  lines['Home_spread'] = lines['Home_spread'].str.replace('+', '')\n"
     ]
    },
    {
     "name": "stdout",
     "output_type": "stream",
     "text": [
      "9/9 [==============================] - 0s 903us/step\n",
      "Testing the value 19\n"
     ]
    },
    {
     "name": "stderr",
     "output_type": "stream",
     "text": [
      "/var/folders/c3/4jwj2hy164s7ghr3rk_vnv9c0000gn/T/ipykernel_57647/1630145182.py:128: FutureWarning: The default value of regex will change from True to False in a future version. In addition, single character regular expressions will *not* be treated as literal strings when regex=True.\n",
      "  lines['Home_spread'] = lines['Home_spread'].str.replace('+', '')\n"
     ]
    },
    {
     "name": "stdout",
     "output_type": "stream",
     "text": [
      "9/9 [==============================] - 0s 995us/step\n"
     ]
    },
    {
     "name": "stderr",
     "output_type": "stream",
     "text": [
      "/var/folders/c3/4jwj2hy164s7ghr3rk_vnv9c0000gn/T/ipykernel_57647/1630145182.py:128: FutureWarning: The default value of regex will change from True to False in a future version. In addition, single character regular expressions will *not* be treated as literal strings when regex=True.\n",
      "  lines['Home_spread'] = lines['Home_spread'].str.replace('+', '')\n"
     ]
    },
    {
     "name": "stdout",
     "output_type": "stream",
     "text": [
      "9/9 [==============================] - 0s 905us/step\n"
     ]
    },
    {
     "name": "stderr",
     "output_type": "stream",
     "text": [
      "/var/folders/c3/4jwj2hy164s7ghr3rk_vnv9c0000gn/T/ipykernel_57647/1630145182.py:128: FutureWarning: The default value of regex will change from True to False in a future version. In addition, single character regular expressions will *not* be treated as literal strings when regex=True.\n",
      "  lines['Home_spread'] = lines['Home_spread'].str.replace('+', '')\n"
     ]
    },
    {
     "name": "stdout",
     "output_type": "stream",
     "text": [
      "9/9 [==============================] - 0s 1ms/step\n"
     ]
    },
    {
     "name": "stderr",
     "output_type": "stream",
     "text": [
      "/var/folders/c3/4jwj2hy164s7ghr3rk_vnv9c0000gn/T/ipykernel_57647/1630145182.py:128: FutureWarning: The default value of regex will change from True to False in a future version. In addition, single character regular expressions will *not* be treated as literal strings when regex=True.\n",
      "  lines['Home_spread'] = lines['Home_spread'].str.replace('+', '')\n"
     ]
    },
    {
     "name": "stdout",
     "output_type": "stream",
     "text": [
      "9/9 [==============================] - 0s 912us/step\n"
     ]
    },
    {
     "name": "stderr",
     "output_type": "stream",
     "text": [
      "/var/folders/c3/4jwj2hy164s7ghr3rk_vnv9c0000gn/T/ipykernel_57647/1630145182.py:128: FutureWarning: The default value of regex will change from True to False in a future version. In addition, single character regular expressions will *not* be treated as literal strings when regex=True.\n",
      "  lines['Home_spread'] = lines['Home_spread'].str.replace('+', '')\n"
     ]
    },
    {
     "name": "stdout",
     "output_type": "stream",
     "text": [
      "9/9 [==============================] - 0s 895us/step\n"
     ]
    },
    {
     "name": "stderr",
     "output_type": "stream",
     "text": [
      "/var/folders/c3/4jwj2hy164s7ghr3rk_vnv9c0000gn/T/ipykernel_57647/1630145182.py:128: FutureWarning: The default value of regex will change from True to False in a future version. In addition, single character regular expressions will *not* be treated as literal strings when regex=True.\n",
      "  lines['Home_spread'] = lines['Home_spread'].str.replace('+', '')\n"
     ]
    },
    {
     "name": "stdout",
     "output_type": "stream",
     "text": [
      "9/9 [==============================] - 0s 881us/step\n"
     ]
    },
    {
     "name": "stderr",
     "output_type": "stream",
     "text": [
      "/var/folders/c3/4jwj2hy164s7ghr3rk_vnv9c0000gn/T/ipykernel_57647/1630145182.py:128: FutureWarning: The default value of regex will change from True to False in a future version. In addition, single character regular expressions will *not* be treated as literal strings when regex=True.\n",
      "  lines['Home_spread'] = lines['Home_spread'].str.replace('+', '')\n"
     ]
    },
    {
     "name": "stdout",
     "output_type": "stream",
     "text": [
      "9/9 [==============================] - 0s 915us/step\n"
     ]
    },
    {
     "name": "stderr",
     "output_type": "stream",
     "text": [
      "/var/folders/c3/4jwj2hy164s7ghr3rk_vnv9c0000gn/T/ipykernel_57647/1630145182.py:128: FutureWarning: The default value of regex will change from True to False in a future version. In addition, single character regular expressions will *not* be treated as literal strings when regex=True.\n",
      "  lines['Home_spread'] = lines['Home_spread'].str.replace('+', '')\n"
     ]
    },
    {
     "name": "stdout",
     "output_type": "stream",
     "text": [
      "9/9 [==============================] - 0s 917us/step\n",
      "Testing the value 20\n"
     ]
    },
    {
     "name": "stderr",
     "output_type": "stream",
     "text": [
      "/var/folders/c3/4jwj2hy164s7ghr3rk_vnv9c0000gn/T/ipykernel_57647/1630145182.py:128: FutureWarning: The default value of regex will change from True to False in a future version. In addition, single character regular expressions will *not* be treated as literal strings when regex=True.\n",
      "  lines['Home_spread'] = lines['Home_spread'].str.replace('+', '')\n"
     ]
    },
    {
     "name": "stdout",
     "output_type": "stream",
     "text": [
      "9/9 [==============================] - 0s 890us/step\n"
     ]
    },
    {
     "name": "stderr",
     "output_type": "stream",
     "text": [
      "/var/folders/c3/4jwj2hy164s7ghr3rk_vnv9c0000gn/T/ipykernel_57647/1630145182.py:128: FutureWarning: The default value of regex will change from True to False in a future version. In addition, single character regular expressions will *not* be treated as literal strings when regex=True.\n",
      "  lines['Home_spread'] = lines['Home_spread'].str.replace('+', '')\n"
     ]
    },
    {
     "name": "stdout",
     "output_type": "stream",
     "text": [
      "9/9 [==============================] - 0s 925us/step\n"
     ]
    },
    {
     "name": "stderr",
     "output_type": "stream",
     "text": [
      "/var/folders/c3/4jwj2hy164s7ghr3rk_vnv9c0000gn/T/ipykernel_57647/1630145182.py:128: FutureWarning: The default value of regex will change from True to False in a future version. In addition, single character regular expressions will *not* be treated as literal strings when regex=True.\n",
      "  lines['Home_spread'] = lines['Home_spread'].str.replace('+', '')\n"
     ]
    },
    {
     "name": "stdout",
     "output_type": "stream",
     "text": [
      "9/9 [==============================] - 0s 929us/step\n"
     ]
    },
    {
     "name": "stderr",
     "output_type": "stream",
     "text": [
      "/var/folders/c3/4jwj2hy164s7ghr3rk_vnv9c0000gn/T/ipykernel_57647/1630145182.py:128: FutureWarning: The default value of regex will change from True to False in a future version. In addition, single character regular expressions will *not* be treated as literal strings when regex=True.\n",
      "  lines['Home_spread'] = lines['Home_spread'].str.replace('+', '')\n"
     ]
    },
    {
     "name": "stdout",
     "output_type": "stream",
     "text": [
      "9/9 [==============================] - 0s 914us/step\n"
     ]
    },
    {
     "name": "stderr",
     "output_type": "stream",
     "text": [
      "/var/folders/c3/4jwj2hy164s7ghr3rk_vnv9c0000gn/T/ipykernel_57647/1630145182.py:128: FutureWarning: The default value of regex will change from True to False in a future version. In addition, single character regular expressions will *not* be treated as literal strings when regex=True.\n",
      "  lines['Home_spread'] = lines['Home_spread'].str.replace('+', '')\n"
     ]
    },
    {
     "name": "stdout",
     "output_type": "stream",
     "text": [
      "9/9 [==============================] - 0s 889us/step\n"
     ]
    },
    {
     "name": "stderr",
     "output_type": "stream",
     "text": [
      "/var/folders/c3/4jwj2hy164s7ghr3rk_vnv9c0000gn/T/ipykernel_57647/1630145182.py:128: FutureWarning: The default value of regex will change from True to False in a future version. In addition, single character regular expressions will *not* be treated as literal strings when regex=True.\n",
      "  lines['Home_spread'] = lines['Home_spread'].str.replace('+', '')\n"
     ]
    },
    {
     "name": "stdout",
     "output_type": "stream",
     "text": [
      "9/9 [==============================] - 0s 882us/step\n"
     ]
    },
    {
     "name": "stderr",
     "output_type": "stream",
     "text": [
      "/var/folders/c3/4jwj2hy164s7ghr3rk_vnv9c0000gn/T/ipykernel_57647/1630145182.py:128: FutureWarning: The default value of regex will change from True to False in a future version. In addition, single character regular expressions will *not* be treated as literal strings when regex=True.\n",
      "  lines['Home_spread'] = lines['Home_spread'].str.replace('+', '')\n"
     ]
    },
    {
     "name": "stdout",
     "output_type": "stream",
     "text": [
      "9/9 [==============================] - 0s 1ms/step\n"
     ]
    },
    {
     "name": "stderr",
     "output_type": "stream",
     "text": [
      "/var/folders/c3/4jwj2hy164s7ghr3rk_vnv9c0000gn/T/ipykernel_57647/1630145182.py:128: FutureWarning: The default value of regex will change from True to False in a future version. In addition, single character regular expressions will *not* be treated as literal strings when regex=True.\n",
      "  lines['Home_spread'] = lines['Home_spread'].str.replace('+', '')\n"
     ]
    },
    {
     "name": "stdout",
     "output_type": "stream",
     "text": [
      "9/9 [==============================] - 0s 899us/step\n",
      "Testing the value 21\n"
     ]
    },
    {
     "name": "stderr",
     "output_type": "stream",
     "text": [
      "/var/folders/c3/4jwj2hy164s7ghr3rk_vnv9c0000gn/T/ipykernel_57647/1630145182.py:128: FutureWarning: The default value of regex will change from True to False in a future version. In addition, single character regular expressions will *not* be treated as literal strings when regex=True.\n",
      "  lines['Home_spread'] = lines['Home_spread'].str.replace('+', '')\n"
     ]
    },
    {
     "name": "stdout",
     "output_type": "stream",
     "text": [
      "9/9 [==============================] - 0s 886us/step\n"
     ]
    },
    {
     "name": "stderr",
     "output_type": "stream",
     "text": [
      "/var/folders/c3/4jwj2hy164s7ghr3rk_vnv9c0000gn/T/ipykernel_57647/1630145182.py:128: FutureWarning: The default value of regex will change from True to False in a future version. In addition, single character regular expressions will *not* be treated as literal strings when regex=True.\n",
      "  lines['Home_spread'] = lines['Home_spread'].str.replace('+', '')\n"
     ]
    },
    {
     "name": "stdout",
     "output_type": "stream",
     "text": [
      "9/9 [==============================] - 0s 910us/step\n"
     ]
    },
    {
     "name": "stderr",
     "output_type": "stream",
     "text": [
      "/var/folders/c3/4jwj2hy164s7ghr3rk_vnv9c0000gn/T/ipykernel_57647/1630145182.py:128: FutureWarning: The default value of regex will change from True to False in a future version. In addition, single character regular expressions will *not* be treated as literal strings when regex=True.\n",
      "  lines['Home_spread'] = lines['Home_spread'].str.replace('+', '')\n"
     ]
    },
    {
     "name": "stdout",
     "output_type": "stream",
     "text": [
      "9/9 [==============================] - 0s 923us/step\n"
     ]
    },
    {
     "name": "stderr",
     "output_type": "stream",
     "text": [
      "/var/folders/c3/4jwj2hy164s7ghr3rk_vnv9c0000gn/T/ipykernel_57647/1630145182.py:128: FutureWarning: The default value of regex will change from True to False in a future version. In addition, single character regular expressions will *not* be treated as literal strings when regex=True.\n",
      "  lines['Home_spread'] = lines['Home_spread'].str.replace('+', '')\n"
     ]
    },
    {
     "name": "stdout",
     "output_type": "stream",
     "text": [
      "9/9 [==============================] - 0s 909us/step\n"
     ]
    },
    {
     "name": "stderr",
     "output_type": "stream",
     "text": [
      "/var/folders/c3/4jwj2hy164s7ghr3rk_vnv9c0000gn/T/ipykernel_57647/1630145182.py:128: FutureWarning: The default value of regex will change from True to False in a future version. In addition, single character regular expressions will *not* be treated as literal strings when regex=True.\n",
      "  lines['Home_spread'] = lines['Home_spread'].str.replace('+', '')\n"
     ]
    },
    {
     "name": "stdout",
     "output_type": "stream",
     "text": [
      "9/9 [==============================] - 0s 917us/step\n"
     ]
    },
    {
     "name": "stderr",
     "output_type": "stream",
     "text": [
      "/var/folders/c3/4jwj2hy164s7ghr3rk_vnv9c0000gn/T/ipykernel_57647/1630145182.py:128: FutureWarning: The default value of regex will change from True to False in a future version. In addition, single character regular expressions will *not* be treated as literal strings when regex=True.\n",
      "  lines['Home_spread'] = lines['Home_spread'].str.replace('+', '')\n"
     ]
    },
    {
     "name": "stdout",
     "output_type": "stream",
     "text": [
      "9/9 [==============================] - 0s 906us/step\n"
     ]
    },
    {
     "name": "stderr",
     "output_type": "stream",
     "text": [
      "/var/folders/c3/4jwj2hy164s7ghr3rk_vnv9c0000gn/T/ipykernel_57647/1630145182.py:128: FutureWarning: The default value of regex will change from True to False in a future version. In addition, single character regular expressions will *not* be treated as literal strings when regex=True.\n",
      "  lines['Home_spread'] = lines['Home_spread'].str.replace('+', '')\n"
     ]
    },
    {
     "name": "stdout",
     "output_type": "stream",
     "text": [
      "9/9 [==============================] - 0s 905us/step\n"
     ]
    },
    {
     "name": "stderr",
     "output_type": "stream",
     "text": [
      "/var/folders/c3/4jwj2hy164s7ghr3rk_vnv9c0000gn/T/ipykernel_57647/1630145182.py:128: FutureWarning: The default value of regex will change from True to False in a future version. In addition, single character regular expressions will *not* be treated as literal strings when regex=True.\n",
      "  lines['Home_spread'] = lines['Home_spread'].str.replace('+', '')\n"
     ]
    },
    {
     "name": "stdout",
     "output_type": "stream",
     "text": [
      "9/9 [==============================] - 0s 897us/step\n",
      "Testing the value 22\n"
     ]
    },
    {
     "name": "stderr",
     "output_type": "stream",
     "text": [
      "/var/folders/c3/4jwj2hy164s7ghr3rk_vnv9c0000gn/T/ipykernel_57647/1630145182.py:128: FutureWarning: The default value of regex will change from True to False in a future version. In addition, single character regular expressions will *not* be treated as literal strings when regex=True.\n",
      "  lines['Home_spread'] = lines['Home_spread'].str.replace('+', '')\n"
     ]
    },
    {
     "name": "stdout",
     "output_type": "stream",
     "text": [
      "9/9 [==============================] - 0s 917us/step\n"
     ]
    },
    {
     "name": "stderr",
     "output_type": "stream",
     "text": [
      "/var/folders/c3/4jwj2hy164s7ghr3rk_vnv9c0000gn/T/ipykernel_57647/1630145182.py:128: FutureWarning: The default value of regex will change from True to False in a future version. In addition, single character regular expressions will *not* be treated as literal strings when regex=True.\n",
      "  lines['Home_spread'] = lines['Home_spread'].str.replace('+', '')\n"
     ]
    },
    {
     "name": "stdout",
     "output_type": "stream",
     "text": [
      "9/9 [==============================] - 0s 893us/step\n"
     ]
    },
    {
     "name": "stderr",
     "output_type": "stream",
     "text": [
      "/var/folders/c3/4jwj2hy164s7ghr3rk_vnv9c0000gn/T/ipykernel_57647/1630145182.py:128: FutureWarning: The default value of regex will change from True to False in a future version. In addition, single character regular expressions will *not* be treated as literal strings when regex=True.\n",
      "  lines['Home_spread'] = lines['Home_spread'].str.replace('+', '')\n"
     ]
    },
    {
     "name": "stdout",
     "output_type": "stream",
     "text": [
      "9/9 [==============================] - 0s 896us/step\n"
     ]
    },
    {
     "name": "stderr",
     "output_type": "stream",
     "text": [
      "/var/folders/c3/4jwj2hy164s7ghr3rk_vnv9c0000gn/T/ipykernel_57647/1630145182.py:128: FutureWarning: The default value of regex will change from True to False in a future version. In addition, single character regular expressions will *not* be treated as literal strings when regex=True.\n",
      "  lines['Home_spread'] = lines['Home_spread'].str.replace('+', '')\n"
     ]
    },
    {
     "name": "stdout",
     "output_type": "stream",
     "text": [
      "9/9 [==============================] - 0s 900us/step\n"
     ]
    },
    {
     "name": "stderr",
     "output_type": "stream",
     "text": [
      "/var/folders/c3/4jwj2hy164s7ghr3rk_vnv9c0000gn/T/ipykernel_57647/1630145182.py:128: FutureWarning: The default value of regex will change from True to False in a future version. In addition, single character regular expressions will *not* be treated as literal strings when regex=True.\n",
      "  lines['Home_spread'] = lines['Home_spread'].str.replace('+', '')\n"
     ]
    },
    {
     "name": "stdout",
     "output_type": "stream",
     "text": [
      "9/9 [==============================] - 0s 897us/step\n"
     ]
    },
    {
     "name": "stderr",
     "output_type": "stream",
     "text": [
      "/var/folders/c3/4jwj2hy164s7ghr3rk_vnv9c0000gn/T/ipykernel_57647/1630145182.py:128: FutureWarning: The default value of regex will change from True to False in a future version. In addition, single character regular expressions will *not* be treated as literal strings when regex=True.\n",
      "  lines['Home_spread'] = lines['Home_spread'].str.replace('+', '')\n"
     ]
    },
    {
     "name": "stdout",
     "output_type": "stream",
     "text": [
      "9/9 [==============================] - 0s 923us/step\n"
     ]
    },
    {
     "name": "stderr",
     "output_type": "stream",
     "text": [
      "/var/folders/c3/4jwj2hy164s7ghr3rk_vnv9c0000gn/T/ipykernel_57647/1630145182.py:128: FutureWarning: The default value of regex will change from True to False in a future version. In addition, single character regular expressions will *not* be treated as literal strings when regex=True.\n",
      "  lines['Home_spread'] = lines['Home_spread'].str.replace('+', '')\n"
     ]
    },
    {
     "name": "stdout",
     "output_type": "stream",
     "text": [
      "9/9 [==============================] - 0s 906us/step\n"
     ]
    },
    {
     "name": "stderr",
     "output_type": "stream",
     "text": [
      "/var/folders/c3/4jwj2hy164s7ghr3rk_vnv9c0000gn/T/ipykernel_57647/1630145182.py:128: FutureWarning: The default value of regex will change from True to False in a future version. In addition, single character regular expressions will *not* be treated as literal strings when regex=True.\n",
      "  lines['Home_spread'] = lines['Home_spread'].str.replace('+', '')\n"
     ]
    },
    {
     "name": "stdout",
     "output_type": "stream",
     "text": [
      "9/9 [==============================] - 0s 889us/step\n",
      "Testing the value 23\n"
     ]
    },
    {
     "name": "stderr",
     "output_type": "stream",
     "text": [
      "/var/folders/c3/4jwj2hy164s7ghr3rk_vnv9c0000gn/T/ipykernel_57647/1630145182.py:128: FutureWarning: The default value of regex will change from True to False in a future version. In addition, single character regular expressions will *not* be treated as literal strings when regex=True.\n",
      "  lines['Home_spread'] = lines['Home_spread'].str.replace('+', '')\n"
     ]
    },
    {
     "name": "stdout",
     "output_type": "stream",
     "text": [
      "9/9 [==============================] - 0s 887us/step\n"
     ]
    },
    {
     "name": "stderr",
     "output_type": "stream",
     "text": [
      "/var/folders/c3/4jwj2hy164s7ghr3rk_vnv9c0000gn/T/ipykernel_57647/1630145182.py:128: FutureWarning: The default value of regex will change from True to False in a future version. In addition, single character regular expressions will *not* be treated as literal strings when regex=True.\n",
      "  lines['Home_spread'] = lines['Home_spread'].str.replace('+', '')\n"
     ]
    },
    {
     "name": "stdout",
     "output_type": "stream",
     "text": [
      "9/9 [==============================] - 0s 987us/step\n"
     ]
    },
    {
     "name": "stderr",
     "output_type": "stream",
     "text": [
      "/var/folders/c3/4jwj2hy164s7ghr3rk_vnv9c0000gn/T/ipykernel_57647/1630145182.py:128: FutureWarning: The default value of regex will change from True to False in a future version. In addition, single character regular expressions will *not* be treated as literal strings when regex=True.\n",
      "  lines['Home_spread'] = lines['Home_spread'].str.replace('+', '')\n"
     ]
    },
    {
     "name": "stdout",
     "output_type": "stream",
     "text": [
      "9/9 [==============================] - 0s 924us/step\n"
     ]
    },
    {
     "name": "stderr",
     "output_type": "stream",
     "text": [
      "/var/folders/c3/4jwj2hy164s7ghr3rk_vnv9c0000gn/T/ipykernel_57647/1630145182.py:128: FutureWarning: The default value of regex will change from True to False in a future version. In addition, single character regular expressions will *not* be treated as literal strings when regex=True.\n",
      "  lines['Home_spread'] = lines['Home_spread'].str.replace('+', '')\n"
     ]
    },
    {
     "name": "stdout",
     "output_type": "stream",
     "text": [
      "9/9 [==============================] - 0s 906us/step\n"
     ]
    },
    {
     "name": "stderr",
     "output_type": "stream",
     "text": [
      "/var/folders/c3/4jwj2hy164s7ghr3rk_vnv9c0000gn/T/ipykernel_57647/1630145182.py:128: FutureWarning: The default value of regex will change from True to False in a future version. In addition, single character regular expressions will *not* be treated as literal strings when regex=True.\n",
      "  lines['Home_spread'] = lines['Home_spread'].str.replace('+', '')\n"
     ]
    },
    {
     "name": "stdout",
     "output_type": "stream",
     "text": [
      "9/9 [==============================] - 0s 953us/step\n"
     ]
    },
    {
     "name": "stderr",
     "output_type": "stream",
     "text": [
      "/var/folders/c3/4jwj2hy164s7ghr3rk_vnv9c0000gn/T/ipykernel_57647/1630145182.py:128: FutureWarning: The default value of regex will change from True to False in a future version. In addition, single character regular expressions will *not* be treated as literal strings when regex=True.\n",
      "  lines['Home_spread'] = lines['Home_spread'].str.replace('+', '')\n"
     ]
    },
    {
     "name": "stdout",
     "output_type": "stream",
     "text": [
      "9/9 [==============================] - 0s 901us/step\n"
     ]
    },
    {
     "name": "stderr",
     "output_type": "stream",
     "text": [
      "/var/folders/c3/4jwj2hy164s7ghr3rk_vnv9c0000gn/T/ipykernel_57647/1630145182.py:128: FutureWarning: The default value of regex will change from True to False in a future version. In addition, single character regular expressions will *not* be treated as literal strings when regex=True.\n",
      "  lines['Home_spread'] = lines['Home_spread'].str.replace('+', '')\n"
     ]
    },
    {
     "name": "stdout",
     "output_type": "stream",
     "text": [
      "9/9 [==============================] - 0s 906us/step\n"
     ]
    },
    {
     "name": "stderr",
     "output_type": "stream",
     "text": [
      "/var/folders/c3/4jwj2hy164s7ghr3rk_vnv9c0000gn/T/ipykernel_57647/1630145182.py:128: FutureWarning: The default value of regex will change from True to False in a future version. In addition, single character regular expressions will *not* be treated as literal strings when regex=True.\n",
      "  lines['Home_spread'] = lines['Home_spread'].str.replace('+', '')\n"
     ]
    },
    {
     "name": "stdout",
     "output_type": "stream",
     "text": [
      "9/9 [==============================] - 0s 900us/step\n",
      "Testing the value 24\n"
     ]
    },
    {
     "name": "stderr",
     "output_type": "stream",
     "text": [
      "/var/folders/c3/4jwj2hy164s7ghr3rk_vnv9c0000gn/T/ipykernel_57647/1630145182.py:128: FutureWarning: The default value of regex will change from True to False in a future version. In addition, single character regular expressions will *not* be treated as literal strings when regex=True.\n",
      "  lines['Home_spread'] = lines['Home_spread'].str.replace('+', '')\n"
     ]
    },
    {
     "name": "stdout",
     "output_type": "stream",
     "text": [
      "9/9 [==============================] - 0s 868us/step\n"
     ]
    },
    {
     "name": "stderr",
     "output_type": "stream",
     "text": [
      "/var/folders/c3/4jwj2hy164s7ghr3rk_vnv9c0000gn/T/ipykernel_57647/1630145182.py:128: FutureWarning: The default value of regex will change from True to False in a future version. In addition, single character regular expressions will *not* be treated as literal strings when regex=True.\n",
      "  lines['Home_spread'] = lines['Home_spread'].str.replace('+', '')\n"
     ]
    },
    {
     "name": "stdout",
     "output_type": "stream",
     "text": [
      "9/9 [==============================] - 0s 911us/step\n"
     ]
    },
    {
     "name": "stderr",
     "output_type": "stream",
     "text": [
      "/var/folders/c3/4jwj2hy164s7ghr3rk_vnv9c0000gn/T/ipykernel_57647/1630145182.py:128: FutureWarning: The default value of regex will change from True to False in a future version. In addition, single character regular expressions will *not* be treated as literal strings when regex=True.\n",
      "  lines['Home_spread'] = lines['Home_spread'].str.replace('+', '')\n"
     ]
    },
    {
     "name": "stdout",
     "output_type": "stream",
     "text": [
      "9/9 [==============================] - 0s 892us/step\n"
     ]
    },
    {
     "name": "stderr",
     "output_type": "stream",
     "text": [
      "/var/folders/c3/4jwj2hy164s7ghr3rk_vnv9c0000gn/T/ipykernel_57647/1630145182.py:128: FutureWarning: The default value of regex will change from True to False in a future version. In addition, single character regular expressions will *not* be treated as literal strings when regex=True.\n",
      "  lines['Home_spread'] = lines['Home_spread'].str.replace('+', '')\n"
     ]
    },
    {
     "name": "stdout",
     "output_type": "stream",
     "text": [
      "9/9 [==============================] - 0s 905us/step\n"
     ]
    },
    {
     "name": "stderr",
     "output_type": "stream",
     "text": [
      "/var/folders/c3/4jwj2hy164s7ghr3rk_vnv9c0000gn/T/ipykernel_57647/1630145182.py:128: FutureWarning: The default value of regex will change from True to False in a future version. In addition, single character regular expressions will *not* be treated as literal strings when regex=True.\n",
      "  lines['Home_spread'] = lines['Home_spread'].str.replace('+', '')\n"
     ]
    },
    {
     "name": "stdout",
     "output_type": "stream",
     "text": [
      "9/9 [==============================] - 0s 903us/step\n"
     ]
    },
    {
     "name": "stderr",
     "output_type": "stream",
     "text": [
      "/var/folders/c3/4jwj2hy164s7ghr3rk_vnv9c0000gn/T/ipykernel_57647/1630145182.py:128: FutureWarning: The default value of regex will change from True to False in a future version. In addition, single character regular expressions will *not* be treated as literal strings when regex=True.\n",
      "  lines['Home_spread'] = lines['Home_spread'].str.replace('+', '')\n"
     ]
    },
    {
     "name": "stdout",
     "output_type": "stream",
     "text": [
      "9/9 [==============================] - 0s 890us/step\n"
     ]
    },
    {
     "name": "stderr",
     "output_type": "stream",
     "text": [
      "/var/folders/c3/4jwj2hy164s7ghr3rk_vnv9c0000gn/T/ipykernel_57647/1630145182.py:128: FutureWarning: The default value of regex will change from True to False in a future version. In addition, single character regular expressions will *not* be treated as literal strings when regex=True.\n",
      "  lines['Home_spread'] = lines['Home_spread'].str.replace('+', '')\n"
     ]
    },
    {
     "name": "stdout",
     "output_type": "stream",
     "text": [
      "9/9 [==============================] - 0s 905us/step\n"
     ]
    },
    {
     "name": "stderr",
     "output_type": "stream",
     "text": [
      "/var/folders/c3/4jwj2hy164s7ghr3rk_vnv9c0000gn/T/ipykernel_57647/1630145182.py:128: FutureWarning: The default value of regex will change from True to False in a future version. In addition, single character regular expressions will *not* be treated as literal strings when regex=True.\n",
      "  lines['Home_spread'] = lines['Home_spread'].str.replace('+', '')\n"
     ]
    },
    {
     "name": "stdout",
     "output_type": "stream",
     "text": [
      "9/9 [==============================] - 0s 911us/step\n",
      "Vegas went: 68/120\n",
      "Winner went: 66/120\n",
      "1 score went: 48/120\n",
      "bestMult: 24\n"
     ]
    },
    {
     "name": "stderr",
     "output_type": "stream",
     "text": [
      "/var/folders/c3/4jwj2hy164s7ghr3rk_vnv9c0000gn/T/ipykernel_57647/1630145182.py:128: FutureWarning: The default value of regex will change from True to False in a future version. In addition, single character regular expressions will *not* be treated as literal strings when regex=True.\n",
      "  lines['Home_spread'] = lines['Home_spread'].str.replace('+', '')\n"
     ]
    }
   ],
   "source": [
    "import pandas as pd\n",
    "from tensorflow.keras.models import load_model\n",
    "globalVegas = 0\n",
    "globalOS = 0\n",
    "globalWin = 0\n",
    "games = 0\n",
    "bestMult = 0\n",
    "comp = 0\n",
    "globalComp = 0\n",
    "for j in range (5, 25):\n",
    "    print(\"Testing the value \"+str(j))\n",
    "    adj = j\n",
    "    tempVegas = 0\n",
    "    tempOS = 0\n",
    "    tempWin = 0\n",
    "    games = 0\n",
    "    comp = 0\n",
    "    for i in range (10, 18):\n",
    "        week = i\n",
    "        test = pd.read_csv(f'Week{week}Test.csv')\n",
    "\n",
    "        incrementList = ['PF', 'PA', 'Yds_tot_Off', 'Ply_Off', 'TO_Off', 'FL_Off', '1stD_tot_Off', '1stD_Pss_Off',\n",
    "                                '1stD_Rsh_Off', 'Pen_Off', 'Yds_Pny_Off', '1stPy_Off', 'G_Pss_Off', 'Cmp_Off', 'Att_Pss_Off', \n",
    "                                'Yds_Pss_Off', 'TD_Pss_Off', 'Int_Off', 'Lng_Pss', 'Sk_Off', 'Yds.1_Off', 'G_Rsh_Off', 'Att_Rsh_Off',\n",
    "                                'Yds_Rsh_Off', 'TD_Rsh_Off', 'Lng_Rsh', 'Fmb', 'G_Off', 'RshTD_Off', 'RecTD_Off', 'AllTD_Off',\n",
    "                                'XPM_Off', 'XPA_Off', 'FGM_Off', 'FGA_Off', 'Pts_Off', 'Yds_tot_Def', 'Ply_Def', 'TO_Def', 'FL_Def',\n",
    "                                '1stD_tot_Def', '1stD_Pss_Def', '1stD_Rsh_Def', 'Pen_Def', 'Yds_Pny_Def', '1stPy_Def', 'G_Pss_Def',\n",
    "                                'Cmp_Def', 'Att_Pss_Def', 'Yds_Pss_Def', 'TD_Pss_Def', 'Int_Def', 'PD_y', 'Sk_Def', 'Yds.1_Def',\n",
    "                                'QBHits', 'TFL', 'G_Rsh_Def', 'Att_Rsh_Def', 'Yds_Rsh_Def', 'TD_Rsh_Def', 'RshTD_Def', 'RecTD_Def',\n",
    "                                'AllTD_Def', 'XPM_Def', 'XPA_Def', 'FGM_Def', 'FGA_Def', 'Pts_Def']\n",
    "        location = ['_home', '_away']\n",
    "        for loc in location:\n",
    "            for col in incrementList:\n",
    "                change = col + loc\n",
    "                test.loc[test['W'+loc] + test['L'+loc]== week-2, change] += (test[change]/(week-2))\n",
    "        for loc in location:\n",
    "            for col in incrementList:\n",
    "                change = col + loc\n",
    "                test.loc[test['W'+loc] + test['L'+loc]== week-1, change] = adj*(test[change]/(week-1))\n",
    "        #test.to_csv('debug.csv', index = False)  \n",
    "        def determine_beat_odds(row):\n",
    "            if row['pred'] > row['Vegas'] and row['actual'] > row['Vegas']:\n",
    "                return True\n",
    "            elif row['pred'] < row['Vegas'] and row['actual'] < row['Vegas']:\n",
    "                return True\n",
    "            elif row['pred'] == row['Vegas'] or row['actual'] == row['Vegas']:\n",
    "                return True\n",
    "            else:\n",
    "                return False\n",
    "        shape = test.shape\n",
    "        loaded_model = load_model('nflfinal')\n",
    "        model = loaded_model\n",
    "\n",
    "        test = test.drop(columns=['Week', 'Time', 'Away', 'Tm_away', 'Home', 'Tm_home', 'D2P_Def_away','D2P_Def_home' ])\n",
    "        newCol = {'L_away': 'losses_away', 'L_home': 'losses_home', 'W-L%_away': 'wlp_away',\n",
    "                  'W-L%_home': 'wlp_home', 'W_away': 'wins_away', 'W_home': 'wins_home'}\n",
    "        test = test.rename(columns=newCol)\n",
    "        pred = test\n",
    "        predictions = model.predict(pred)\n",
    "        count = 0\n",
    "        iterate = pd.read_csv(f'Week{week}Test.csv')\n",
    "\n",
    "        teams =  iterate['Home'].unique()\n",
    "        teams = [team[:-5] for team in teams]\n",
    "\n",
    "        init = {'Name': teams,\n",
    "                'Wins': [0]*32,\n",
    "                'Losses': [0]*32}\n",
    "\n",
    "        simulate = pd.DataFrame(init)\n",
    "        count = 0\n",
    "        #setup = {'Week', 'Away', 'Away_spread', 'Home', 'Home_spread'}\n",
    "        weeklyLines = []\n",
    "        for index, row in iterate.iterrows():\n",
    "            #print(f\"{row['Week']} {row['Away']} vs Home: {row['Home']}: {predictions[count]}\")\n",
    "            home = (row['Home'][:-5])\n",
    "            away = (row['Away'][:-5])\n",
    "            spread = (predictions[count][0])\n",
    "            formattedSpread = str(abs(spread))\n",
    "            formattedSpread = formattedSpread[:3] if formattedSpread[1] == '.' else formattedSpread[:4]\n",
    "\n",
    "            if (spread > 0):\n",
    "                #print(f\"Week {row['Week']}: {away} +{formattedSpread}, {home} -{formattedSpread}\")\n",
    "                simulate.loc[simulate['Name'] == home, 'Wins'] += 1\n",
    "                simulate.loc[simulate['Name'] == away, 'Losses'] += 1\n",
    "                if (row['Week'] == week):\n",
    "                    weeklyLines.append([week, away,f\"+{formattedSpread}\", home, f\"-{formattedSpread}\" ] )\n",
    "            else:\n",
    "                #print(f\"Week {row['Week']}: {away} -{formattedSpread}, {home} +{formattedSpread}\")\n",
    "                simulate.loc[simulate['Name'] == away, 'Wins'] += 1\n",
    "                simulate.loc[simulate['Name'] == home, 'Losses'] += 1\n",
    "                if (row['Week'] == week):\n",
    "                    weeklyLines.append([week, away,f\"-{formattedSpread}\", home, f\"+{formattedSpread}\" ] )\n",
    "\n",
    "            count+=1 \n",
    "        #print(simulate)\n",
    "        lines = pd.DataFrame(weeklyLines, columns=['Week', 'Away', 'Away_spread', 'Home', \"Home_spread\"])\n",
    "        #print(lines)\n",
    "        if week == 10: \n",
    "            results = [-3, 4, 2, -4, 3, -8, -14, 31, -2, 3, -32, -3, -4, 2] #week 10\n",
    "            vegas = [-3, 1.5, -5.5, -3, -5.5, 3, -2.5, 3, 2, 2, -17.5, -6, 1, -7.5]\n",
    "        elif week == 11: \n",
    "            results = [-14, -5, -5, 23, 12, -20, -3, -7, -3, -13, -26, -1, -1, 4] #week 11\n",
    "            vegas = [-4, -8, -5.5, 11, -7.5, -6.5, -2.5, -14, 3, -13.5, -7.5, -2.5, -2.5, -2]\n",
    "        elif week == 12: \n",
    "            results = [7, -35, 18, 21, -7, 3, -9, -3, 6, -7, -17, 23, -3, 14, 10, -100] #week 12\n",
    "            vegas = [-8.5, -13, 7, 9, -3.5, 1, 2, 4.5, 2, -2.5, -2, 3, -2.5, 9, 3, -3]\n",
    "        elif week == 13: \n",
    "            results = [-6,5, -3, 3, 14, 5, 30, 6, -5, -17, 23, -8, 3] #week 13\n",
    "            vegas = [-9.5, 2, -3.5, 1.5, -6, 4, 8.5, 4.5, -3, -3.5, 3, 6, -10]\n",
    "        elif week == 14: \n",
    "            results = [3, -22, -20, -15, -24, -4, -6, 4, 3, -12, 3, 17, 20, -2, 1] #week 14\n",
    "            vegas = [-5, -5, -3, 3, 3, -2, -7.5, -1.5, 3, -15, -2, -3, -3.5, 5.5, -13.5]\n",
    "        elif week == 15: \n",
    "            results = [-42, -2, -3, -25, 3, -3, -18, -30, -17, 14, 16, -8, -21, -3, 16, 10] #week 15\n",
    "            vegas = [-3, 2.5, -3, -5.5, -3, -3, -6, -7, -1, -4, 12.5, -7, -2.5, 5, 4, 10]\n",
    "        elif week == 16: \n",
    "            results = [-8, -23, 2, 14, 19, 6, 3, 3, -2, -18, -11, -2, 3, 6, -8, 14] #week 16\n",
    "            vegas = [-4, 3, 12.5, 3, -2.5, 2.5, 3.5, 3, -3, 2.5, -4.5, -1.5, -7, -11, -14, -6.5]\n",
    "        elif week == 17: \n",
    "            results = [-17, -1, -20, -26, 4, -37, 20, -6, -23, -3, 1, 17, 7, -8, -7, 23] #week 17\n",
    "            vegas = [-7, -4.5, -3, -7, -10.5, -4, -3, -15, -3.5, -3, 6, 13.5, -3.5, -7, -5.5, -2]\n",
    "        elif week == 18: \n",
    "            results = [-31, 7, -8, -17, 28, -13, 4, -8, 1, -10, 14, -17, 7, 1, 1, 9] #week 18\n",
    "            vegas = [-3, 2.5, -2.5, -7, 13, -3.5, 1.5, 3.5, -3.5, -3.5, -2.5, 5, 3, -5.5, 3, 4.5]\n",
    "        lines['actual'] = results\n",
    "        lines['Vegas'] = vegas\n",
    "        lines['Home_spread'] = lines['Home_spread'].str.replace('+', '')\n",
    "        lines['pred'] = (lines['Home_spread'].astype(float))\n",
    "        lines['oneScore'] = abs(round(lines['Home_spread'].astype(float)) - lines['actual']) <= 8\n",
    "        lines['predWinner'] = round(lines['Home_spread'].astype(float)* lines['actual']) >= 0\n",
    "        lines['beatOdds'] = lines.apply(determine_beat_odds, axis=1)\n",
    "        tempVegas += lines['beatOdds'].sum()\n",
    "        tempOS += lines['oneScore'].sum()\n",
    "        tempWin += lines['predWinner'].sum()\n",
    "        games += len(lines)\n",
    "        comp += (tempVegas + tempWin)\n",
    "    if (comp > globalComp):\n",
    "        globalVegas = tempVegas\n",
    "        globalOS = tempOS\n",
    "        globalWin = tempWin\n",
    "        bestMult = j\n",
    "print(\"Vegas went: \" +str(globalVegas)+\"/\"+str(games))\n",
    "print(\"Winner went: \" +str(globalWin)+\"/\"+str(games))\n",
    "print(\"1 score went: \" +str(globalOS)+\"/\"+str(games))\n",
    "print(\"bestMult: \" +str(bestMult))\n",
    "\n"
   ]
  },
  {
   "cell_type": "code",
   "execution_count": 5,
   "id": "55940c87",
   "metadata": {},
   "outputs": [
    {
     "name": "stdout",
     "output_type": "stream",
     "text": [
      "9/9 [==============================] - 0s 916us/step\n"
     ]
    },
    {
     "name": "stderr",
     "output_type": "stream",
     "text": [
      "/var/folders/c3/4jwj2hy164s7ghr3rk_vnv9c0000gn/T/ipykernel_57647/2388875352.py:118: FutureWarning: The default value of regex will change from True to False in a future version. In addition, single character regular expressions will *not* be treated as literal strings when regex=True.\n",
      "  lines['Home_spread'] = lines['Home_spread'].str.replace('+', '')\n"
     ]
    },
    {
     "name": "stdout",
     "output_type": "stream",
     "text": [
      "9/9 [==============================] - 0s 891us/step\n"
     ]
    },
    {
     "name": "stderr",
     "output_type": "stream",
     "text": [
      "/var/folders/c3/4jwj2hy164s7ghr3rk_vnv9c0000gn/T/ipykernel_57647/2388875352.py:118: FutureWarning: The default value of regex will change from True to False in a future version. In addition, single character regular expressions will *not* be treated as literal strings when regex=True.\n",
      "  lines['Home_spread'] = lines['Home_spread'].str.replace('+', '')\n"
     ]
    },
    {
     "name": "stdout",
     "output_type": "stream",
     "text": [
      "9/9 [==============================] - 0s 907us/step\n"
     ]
    },
    {
     "name": "stderr",
     "output_type": "stream",
     "text": [
      "/var/folders/c3/4jwj2hy164s7ghr3rk_vnv9c0000gn/T/ipykernel_57647/2388875352.py:118: FutureWarning: The default value of regex will change from True to False in a future version. In addition, single character regular expressions will *not* be treated as literal strings when regex=True.\n",
      "  lines['Home_spread'] = lines['Home_spread'].str.replace('+', '')\n"
     ]
    },
    {
     "name": "stdout",
     "output_type": "stream",
     "text": [
      "9/9 [==============================] - 0s 901us/step\n"
     ]
    },
    {
     "name": "stderr",
     "output_type": "stream",
     "text": [
      "/var/folders/c3/4jwj2hy164s7ghr3rk_vnv9c0000gn/T/ipykernel_57647/2388875352.py:118: FutureWarning: The default value of regex will change from True to False in a future version. In addition, single character regular expressions will *not* be treated as literal strings when regex=True.\n",
      "  lines['Home_spread'] = lines['Home_spread'].str.replace('+', '')\n"
     ]
    },
    {
     "name": "stdout",
     "output_type": "stream",
     "text": [
      "9/9 [==============================] - 0s 906us/step\n"
     ]
    },
    {
     "name": "stderr",
     "output_type": "stream",
     "text": [
      "/var/folders/c3/4jwj2hy164s7ghr3rk_vnv9c0000gn/T/ipykernel_57647/2388875352.py:118: FutureWarning: The default value of regex will change from True to False in a future version. In addition, single character regular expressions will *not* be treated as literal strings when regex=True.\n",
      "  lines['Home_spread'] = lines['Home_spread'].str.replace('+', '')\n"
     ]
    },
    {
     "name": "stdout",
     "output_type": "stream",
     "text": [
      "9/9 [==============================] - 0s 923us/step\n"
     ]
    },
    {
     "name": "stderr",
     "output_type": "stream",
     "text": [
      "/var/folders/c3/4jwj2hy164s7ghr3rk_vnv9c0000gn/T/ipykernel_57647/2388875352.py:118: FutureWarning: The default value of regex will change from True to False in a future version. In addition, single character regular expressions will *not* be treated as literal strings when regex=True.\n",
      "  lines['Home_spread'] = lines['Home_spread'].str.replace('+', '')\n"
     ]
    },
    {
     "name": "stdout",
     "output_type": "stream",
     "text": [
      "9/9 [==============================] - 0s 907us/step\n"
     ]
    },
    {
     "name": "stderr",
     "output_type": "stream",
     "text": [
      "/var/folders/c3/4jwj2hy164s7ghr3rk_vnv9c0000gn/T/ipykernel_57647/2388875352.py:118: FutureWarning: The default value of regex will change from True to False in a future version. In addition, single character regular expressions will *not* be treated as literal strings when regex=True.\n",
      "  lines['Home_spread'] = lines['Home_spread'].str.replace('+', '')\n"
     ]
    },
    {
     "name": "stdout",
     "output_type": "stream",
     "text": [
      "9/9 [==============================] - 0s 1ms/step\n",
      "Vegas went: 69/120\n",
      "Winner went: 63/120\n",
      "1 score went: 48/120\n"
     ]
    },
    {
     "name": "stderr",
     "output_type": "stream",
     "text": [
      "/var/folders/c3/4jwj2hy164s7ghr3rk_vnv9c0000gn/T/ipykernel_57647/2388875352.py:118: FutureWarning: The default value of regex will change from True to False in a future version. In addition, single character regular expressions will *not* be treated as literal strings when regex=True.\n",
      "  lines['Home_spread'] = lines['Home_spread'].str.replace('+', '')\n"
     ]
    }
   ],
   "source": [
    "import pandas as pd\n",
    "from tensorflow.keras.models import load_model\n",
    "globalVegas = 0\n",
    "globalOS = 0\n",
    "globalWin = 0\n",
    "adj = 17\n",
    "games = 0\n",
    "for i in range (10, 18):\n",
    "    week = i\n",
    "    test = pd.read_csv(f'Week{week}Test.csv')\n",
    "\n",
    "    incrementList = ['PF', 'PA', 'Yds_tot_Off', 'Ply_Off', 'TO_Off', 'FL_Off', '1stD_tot_Off', '1stD_Pss_Off',\n",
    "                            '1stD_Rsh_Off', 'Pen_Off', 'Yds_Pny_Off', '1stPy_Off', 'G_Pss_Off', 'Cmp_Off', 'Att_Pss_Off', \n",
    "                            'Yds_Pss_Off', 'TD_Pss_Off', 'Int_Off', 'Lng_Pss', 'Sk_Off', 'Yds.1_Off', 'G_Rsh_Off', 'Att_Rsh_Off',\n",
    "                            'Yds_Rsh_Off', 'TD_Rsh_Off', 'Lng_Rsh', 'Fmb', 'G_Off', 'RshTD_Off', 'RecTD_Off', 'AllTD_Off',\n",
    "                            'XPM_Off', 'XPA_Off', 'FGM_Off', 'FGA_Off', 'Pts_Off', 'Yds_tot_Def', 'Ply_Def', 'TO_Def', 'FL_Def',\n",
    "                            '1stD_tot_Def', '1stD_Pss_Def', '1stD_Rsh_Def', 'Pen_Def', 'Yds_Pny_Def', '1stPy_Def', 'G_Pss_Def',\n",
    "                            'Cmp_Def', 'Att_Pss_Def', 'Yds_Pss_Def', 'TD_Pss_Def', 'Int_Def', 'PD_y', 'Sk_Def', 'Yds.1_Def',\n",
    "                            'QBHits', 'TFL', 'G_Rsh_Def', 'Att_Rsh_Def', 'Yds_Rsh_Def', 'TD_Rsh_Def', 'RshTD_Def', 'RecTD_Def',\n",
    "                            'AllTD_Def', 'XPM_Def', 'XPA_Def', 'FGM_Def', 'FGA_Def', 'Pts_Def']\n",
    "    location = ['_home', '_away']\n",
    "    for loc in location:\n",
    "        for col in incrementList:\n",
    "            change = col + loc\n",
    "            test.loc[test['W'+loc] + test['L'+loc]== week-2, change] += (test[change]/(week-2))\n",
    "    for loc in location:\n",
    "        for col in incrementList:\n",
    "            change = col + loc\n",
    "            test.loc[test['W'+loc] + test['L'+loc]== week-1, change] = adj*(test[change]/(week-1))\n",
    "    #test.to_csv('debug.csv', index = False)  \n",
    "    def determine_beat_odds(row):\n",
    "        if row['pred'] > row['Vegas'] and row['actual'] > row['Vegas']:\n",
    "            return True\n",
    "        elif row['pred'] < row['Vegas'] and row['actual'] < row['Vegas']:\n",
    "            return True\n",
    "        elif row['pred'] == row['Vegas'] or row['actual'] == row['Vegas']:\n",
    "            return True\n",
    "        else:\n",
    "            return False\n",
    "    shape = test.shape\n",
    "    loaded_model = load_model('nflfinal')\n",
    "    model = loaded_model\n",
    "\n",
    "    test = test.drop(columns=['Week', 'Time', 'Away', 'Tm_away', 'Home', 'Tm_home', 'D2P_Def_away','D2P_Def_home' ])\n",
    "    newCol = {'L_away': 'losses_away', 'L_home': 'losses_home', 'W-L%_away': 'wlp_away',\n",
    "              'W-L%_home': 'wlp_home', 'W_away': 'wins_away', 'W_home': 'wins_home'}\n",
    "    test = test.rename(columns=newCol)\n",
    "    pred = test\n",
    "    predictions = model.predict(pred)\n",
    "    count = 0\n",
    "    iterate = pd.read_csv(f'Week{week}Test.csv')\n",
    "\n",
    "    teams =  iterate['Home'].unique()\n",
    "    teams = [team[:-5] for team in teams]\n",
    "\n",
    "    init = {'Name': teams,\n",
    "            'Wins': [0]*32,\n",
    "            'Losses': [0]*32}\n",
    "\n",
    "    simulate = pd.DataFrame(init)\n",
    "    count = 0\n",
    "    #setup = {'Week', 'Away', 'Away_spread', 'Home', 'Home_spread'}\n",
    "    weeklyLines = []\n",
    "    for index, row in iterate.iterrows():\n",
    "        #print(f\"{row['Week']} {row['Away']} vs Home: {row['Home']}: {predictions[count]}\")\n",
    "        home = (row['Home'][:-5])\n",
    "        away = (row['Away'][:-5])\n",
    "        spread = (predictions[count][0])\n",
    "        formattedSpread = str(abs(spread))\n",
    "        formattedSpread = formattedSpread[:3] if formattedSpread[1] == '.' else formattedSpread[:4]\n",
    "\n",
    "        if (spread > 0):\n",
    "            #print(f\"Week {row['Week']}: {away} +{formattedSpread}, {home} -{formattedSpread}\")\n",
    "            simulate.loc[simulate['Name'] == home, 'Wins'] += 1\n",
    "            simulate.loc[simulate['Name'] == away, 'Losses'] += 1\n",
    "            if (row['Week'] == week):\n",
    "                weeklyLines.append([week, away,f\"+{formattedSpread}\", home, f\"-{formattedSpread}\" ] )\n",
    "        else:\n",
    "            #print(f\"Week {row['Week']}: {away} -{formattedSpread}, {home} +{formattedSpread}\")\n",
    "            simulate.loc[simulate['Name'] == away, 'Wins'] += 1\n",
    "            simulate.loc[simulate['Name'] == home, 'Losses'] += 1\n",
    "            if (row['Week'] == week):\n",
    "                weeklyLines.append([week, away,f\"-{formattedSpread}\", home, f\"+{formattedSpread}\" ] )\n",
    "\n",
    "        count+=1 \n",
    "    #print(simulate)\n",
    "    lines = pd.DataFrame(weeklyLines, columns=['Week', 'Away', 'Away_spread', 'Home', \"Home_spread\"])\n",
    "    #print(lines)\n",
    "    if week == 10: \n",
    "        results = [-3, 4, 2, -4, 3, -8, -14, 31, -2, 3, -32, -3, -4, 2] #week 10\n",
    "        vegas = [-3, 1.5, -5.5, -3, -5.5, 3, -2.5, 3, 2, 2, -17.5, -6, 1, -7.5]\n",
    "    elif week == 11: \n",
    "        results = [-14, -5, -5, 23, 12, -20, -3, -7, -3, -13, -26, -1, -1, 4] #week 11\n",
    "        vegas = [-4, -8, -5.5, 11, -7.5, -6.5, -2.5, -14, 3, -13.5, -7.5, -2.5, -2.5, -2]\n",
    "    elif week == 12: \n",
    "        results = [7, -35, 18, 21, -7, 3, -9, -3, 6, -7, -17, 23, -3, 14, 10, -100] #week 12\n",
    "        vegas = [-8.5, -13, 7, 9, -3.5, 1, 2, 4.5, 2, -2.5, -2, 3, -2.5, 9, 3, -3]\n",
    "    elif week == 13: \n",
    "        results = [-6,5, -3, 3, 14, 5, 30, 6, -5, -17, 23, -8, 3] #week 13\n",
    "        vegas = [-9.5, 2, -3.5, 1.5, -6, 4, 8.5, 4.5, -3, -3.5, 3, 6, -10]\n",
    "    elif week == 14: \n",
    "        results = [3, -22, -20, -15, -24, -4, -6, 4, 3, -12, 3, 17, 20, -2, 1] #week 14\n",
    "        vegas = [-5, -5, -3, 3, 3, -2, -7.5, -1.5, 3, -15, -2, -3, -3.5, 5.5, -13.5]\n",
    "    elif week == 15: \n",
    "        results = [-42, -2, -3, -25, 3, -3, -18, -30, -17, 14, 16, -8, -21, -3, 16, 10] #week 15\n",
    "        vegas = [-3, 2.5, -3, -5.5, -3, -3, -6, -7, -1, -4, 12.5, -7, -2.5, 5, 4, 10]\n",
    "    elif week == 16: \n",
    "        results = [-8, -23, 2, 14, 19, 6, 3, 3, -2, -18, -11, -2, 3, 6, -8, 14] #week 16\n",
    "        vegas = [-4, 3, 12.5, 3, -2.5, 2.5, 3.5, 3, -3, 2.5, -4.5, -1.5, -7, -11, -14, -6.5]\n",
    "    elif week == 17: \n",
    "        results = [-17, -1, -20, -26, 4, -37, 20, -6, -23, -3, 1, 17, 7, -8, -7, 23] #week 17\n",
    "        vegas = [-7, -4.5, -3, -7, -10.5, -4, -3, -15, -3.5, -3, 6, 13.5, -3.5, -7, -5.5, -2]\n",
    "    elif week == 18: \n",
    "        results = [-31, 7, -8, -17, 28, -13, 4, -8, 1, -10, 14, -17, 7, 1, 1, 9] #week 18\n",
    "        vegas = [-3, 2.5, -2.5, -7, 13, -3.5, 1.5, 3.5, -3.5, -3.5, -2.5, 5, 3, -5.5, 3, 4.5]\n",
    "    lines['actual'] = results\n",
    "    lines['Vegas'] = vegas\n",
    "    lines['Home_spread'] = lines['Home_spread'].str.replace('+', '')\n",
    "    lines['pred'] = (lines['Home_spread'].astype(float))\n",
    "    lines['oneScore'] = abs(round(lines['Home_spread'].astype(float)) - lines['actual']) <= 8\n",
    "    lines['predWinner'] = round(lines['Home_spread'].astype(float)* lines['actual']) >= 0\n",
    "    lines['beatOdds'] = lines.apply(determine_beat_odds, axis=1)\n",
    "    globalVegas += lines['beatOdds'].sum()\n",
    "    globalOS += lines['oneScore'].sum()\n",
    "    globalWin += lines['predWinner'].sum()\n",
    "    games += len(lines)\n",
    "\n",
    "print(\"Vegas went: \" +str(globalVegas)+\"/\"+str(games))\n",
    "print(\"Winner went: \" +str(globalWin)+\"/\"+str(games))\n",
    "print(\"1 score went: \" +str(globalOS)+\"/\"+str(games))\n",
    "\n"
   ]
  },
  {
   "cell_type": "code",
   "execution_count": null,
   "id": "f0d5ba0b",
   "metadata": {},
   "outputs": [],
   "source": []
  }
 ],
 "metadata": {
  "kernelspec": {
   "display_name": "Python 3 (ipykernel)",
   "language": "python",
   "name": "python3"
  },
  "language_info": {
   "codemirror_mode": {
    "name": "ipython",
    "version": 3
   },
   "file_extension": ".py",
   "mimetype": "text/x-python",
   "name": "python",
   "nbconvert_exporter": "python",
   "pygments_lexer": "ipython3",
   "version": "3.9.12"
  }
 },
 "nbformat": 4,
 "nbformat_minor": 5
}
