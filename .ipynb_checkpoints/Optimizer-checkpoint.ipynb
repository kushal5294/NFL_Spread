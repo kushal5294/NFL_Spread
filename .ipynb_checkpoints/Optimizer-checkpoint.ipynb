{
 "cells": [
  {
   "cell_type": "code",
   "execution_count": 1,
   "id": "7ccc7c20",
   "metadata": {},
   "outputs": [
    {
     "name": "stderr",
     "output_type": "stream",
     "text": [
      "/Users/kushal/opt/anaconda3/lib/python3.9/site-packages/scipy/__init__.py:146: UserWarning: A NumPy version >=1.16.5 and <1.23.0 is required for this version of SciPy (detected version 1.24.2\n",
      "  warnings.warn(f\"A NumPy version >={np_minversion} and <{np_maxversion}\"\n",
      "2023-12-26 17:56:14.576660: I tensorflow/core/platform/cpu_feature_guard.cc:193] This TensorFlow binary is optimized with oneAPI Deep Neural Network Library (oneDNN) to use the following CPU instructions in performance-critical operations:  SSE4.1 SSE4.2\n",
      "To enable them in other operations, rebuild TensorFlow with the appropriate compiler flags.\n"
     ]
    },
    {
     "name": "stdout",
     "output_type": "stream",
     "text": [
      "9/9 [==============================] - 0s 924us/step\n"
     ]
    },
    {
     "name": "stderr",
     "output_type": "stream",
     "text": [
      "/var/folders/c3/4jwj2hy164s7ghr3rk_vnv9c0000gn/T/ipykernel_21346/2238842808.py:109: FutureWarning: The default value of regex will change from True to False in a future version. In addition, single character regular expressions will *not* be treated as literal strings when regex=True.\n",
      "  lines['Home_spread'] = lines['Home_spread'].str.replace('+', '')\n"
     ]
    },
    {
     "name": "stdout",
     "output_type": "stream",
     "text": [
      "9/9 [==============================] - 0s 928us/step\n"
     ]
    },
    {
     "name": "stderr",
     "output_type": "stream",
     "text": [
      "/var/folders/c3/4jwj2hy164s7ghr3rk_vnv9c0000gn/T/ipykernel_21346/2238842808.py:109: FutureWarning: The default value of regex will change from True to False in a future version. In addition, single character regular expressions will *not* be treated as literal strings when regex=True.\n",
      "  lines['Home_spread'] = lines['Home_spread'].str.replace('+', '')\n"
     ]
    },
    {
     "name": "stdout",
     "output_type": "stream",
     "text": [
      "9/9 [==============================] - 0s 971us/step\n"
     ]
    },
    {
     "name": "stderr",
     "output_type": "stream",
     "text": [
      "/var/folders/c3/4jwj2hy164s7ghr3rk_vnv9c0000gn/T/ipykernel_21346/2238842808.py:109: FutureWarning: The default value of regex will change from True to False in a future version. In addition, single character regular expressions will *not* be treated as literal strings when regex=True.\n",
      "  lines['Home_spread'] = lines['Home_spread'].str.replace('+', '')\n"
     ]
    },
    {
     "name": "stdout",
     "output_type": "stream",
     "text": [
      "9/9 [==============================] - 0s 909us/step\n"
     ]
    },
    {
     "name": "stderr",
     "output_type": "stream",
     "text": [
      "/var/folders/c3/4jwj2hy164s7ghr3rk_vnv9c0000gn/T/ipykernel_21346/2238842808.py:109: FutureWarning: The default value of regex will change from True to False in a future version. In addition, single character regular expressions will *not* be treated as literal strings when regex=True.\n",
      "  lines['Home_spread'] = lines['Home_spread'].str.replace('+', '')\n"
     ]
    },
    {
     "name": "stdout",
     "output_type": "stream",
     "text": [
      "9/9 [==============================] - 0s 914us/step\n"
     ]
    },
    {
     "name": "stderr",
     "output_type": "stream",
     "text": [
      "/var/folders/c3/4jwj2hy164s7ghr3rk_vnv9c0000gn/T/ipykernel_21346/2238842808.py:109: FutureWarning: The default value of regex will change from True to False in a future version. In addition, single character regular expressions will *not* be treated as literal strings when regex=True.\n",
      "  lines['Home_spread'] = lines['Home_spread'].str.replace('+', '')\n"
     ]
    },
    {
     "name": "stdout",
     "output_type": "stream",
     "text": [
      "9/9 [==============================] - 0s 929us/step\n",
      "Vegas went: 47/88\n",
      "Winner went: 48/88\n",
      "1 score went: 36/88\n"
     ]
    },
    {
     "name": "stderr",
     "output_type": "stream",
     "text": [
      "/var/folders/c3/4jwj2hy164s7ghr3rk_vnv9c0000gn/T/ipykernel_21346/2238842808.py:109: FutureWarning: The default value of regex will change from True to False in a future version. In addition, single character regular expressions will *not* be treated as literal strings when regex=True.\n",
      "  lines['Home_spread'] = lines['Home_spread'].str.replace('+', '')\n"
     ]
    }
   ],
   "source": [
    "import pandas as pd\n",
    "from tensorflow.keras.models import load_model\n",
    "globalVegas = 0\n",
    "globalOS = 0\n",
    "globalWin = 0\n",
    "games = 0\n",
    "adj = 99\n",
    "for i in range (10, 16):\n",
    "    week = i\n",
    "    test = pd.read_csv(f'Week{week}Test.csv')\n",
    "\n",
    "    incrementList = ['PF', 'PA', 'Yds_tot_Off', 'Ply_Off', 'TO_Off', 'FL_Off', '1stD_tot_Off', '1stD_Pss_Off',\n",
    "                            '1stD_Rsh_Off', 'Pen_Off', 'Yds_Pny_Off', '1stPy_Off', 'G_Pss_Off', 'Cmp_Off', 'Att_Pss_Off', \n",
    "                            'Yds_Pss_Off', 'TD_Pss_Off', 'Int_Off', 'Lng_Pss', 'Sk_Off', 'Yds.1_Off', 'G_Rsh_Off', 'Att_Rsh_Off',\n",
    "                            'Yds_Rsh_Off', 'TD_Rsh_Off', 'Lng_Rsh', 'Fmb', 'G_Off', 'RshTD_Off', 'RecTD_Off', 'AllTD_Off',\n",
    "                            'XPM_Off', 'XPA_Off', 'FGM_Off', 'FGA_Off', 'Pts_Off', 'Yds_tot_Def', 'Ply_Def', 'TO_Def', 'FL_Def',\n",
    "                            '1stD_tot_Def', '1stD_Pss_Def', '1stD_Rsh_Def', 'Pen_Def', 'Yds_Pny_Def', '1stPy_Def', 'G_Pss_Def',\n",
    "                            'Cmp_Def', 'Att_Pss_Def', 'Yds_Pss_Def', 'TD_Pss_Def', 'Int_Def', 'PD_y', 'Sk_Def', 'Yds.1_Def',\n",
    "                            'QBHits', 'TFL', 'G_Rsh_Def', 'Att_Rsh_Def', 'Yds_Rsh_Def', 'TD_Rsh_Def', 'RshTD_Def', 'RecTD_Def',\n",
    "                            'AllTD_Def', 'XPM_Def', 'XPA_Def', 'FGM_Def', 'FGA_Def', 'Pts_Def']\n",
    "    location = ['_home', '_away']\n",
    "    for loc in location:\n",
    "        for col in incrementList:\n",
    "            change = col + loc\n",
    "            test.loc[test['W'+loc] + test['L'+loc]== week-2, change] += (test[change]/(week-2))\n",
    "    for loc in location:\n",
    "        for col in incrementList:\n",
    "            change = col + loc\n",
    "            test.loc[test['W'+loc] + test['L'+loc]== week-1, change] = adj*(test[change]/(week-1))\n",
    "    #test.to_csv('debug.csv', index = False)  \n",
    "    def determine_beat_odds(row):\n",
    "        if row['pred'] > row['Vegas'] and row['actual'] > row['Vegas']:\n",
    "            return True\n",
    "        elif row['pred'] < row['Vegas'] and row['actual'] < row['Vegas']:\n",
    "            return True\n",
    "        elif row['pred'] == row['Vegas'] or row['actual'] == row['Vegas']:\n",
    "            return True\n",
    "        else:\n",
    "            return False\n",
    "    shape = test.shape\n",
    "    loaded_model = load_model('nflfinal')\n",
    "    model = loaded_model\n",
    "\n",
    "    test = test.drop(columns=['Week', 'Time', 'Away', 'Tm_away', 'Home', 'Tm_home', 'D2P_Def_away','D2P_Def_home' ])\n",
    "    newCol = {'L_away': 'losses_away', 'L_home': 'losses_home', 'W-L%_away': 'wlp_away',\n",
    "              'W-L%_home': 'wlp_home', 'W_away': 'wins_away', 'W_home': 'wins_home'}\n",
    "    test = test.rename(columns=newCol)\n",
    "    pred = test\n",
    "    predictions = model.predict(pred)\n",
    "    count = 0\n",
    "    iterate = pd.read_csv(f'Week{week}Test.csv')\n",
    "\n",
    "    teams =  iterate['Home'].unique()\n",
    "    teams = [team[:-5] for team in teams]\n",
    "\n",
    "    init = {'Name': teams,\n",
    "            'Wins': [0]*32,\n",
    "            'Losses': [0]*32}\n",
    "\n",
    "    simulate = pd.DataFrame(init)\n",
    "    count = 0\n",
    "    #setup = {'Week', 'Away', 'Away_spread', 'Home', 'Home_spread'}\n",
    "    weeklyLines = []\n",
    "    for index, row in iterate.iterrows():\n",
    "        #print(f\"{row['Week']} {row['Away']} vs Home: {row['Home']}: {predictions[count]}\")\n",
    "        home = (row['Home'][:-5])\n",
    "        away = (row['Away'][:-5])\n",
    "        spread = (predictions[count][0])\n",
    "        formattedSpread = str(abs(spread))\n",
    "        formattedSpread = formattedSpread[:3] if formattedSpread[1] == '.' else formattedSpread[:4]\n",
    "\n",
    "        if (spread > 0):\n",
    "            #print(f\"Week {row['Week']}: {away} +{formattedSpread}, {home} -{formattedSpread}\")\n",
    "            simulate.loc[simulate['Name'] == home, 'Wins'] += 1\n",
    "            simulate.loc[simulate['Name'] == away, 'Losses'] += 1\n",
    "            if (row['Week'] == week):\n",
    "                weeklyLines.append([week, away,f\"+{formattedSpread}\", home, f\"-{formattedSpread}\" ] )\n",
    "        else:\n",
    "            #print(f\"Week {row['Week']}: {away} -{formattedSpread}, {home} +{formattedSpread}\")\n",
    "            simulate.loc[simulate['Name'] == away, 'Wins'] += 1\n",
    "            simulate.loc[simulate['Name'] == home, 'Losses'] += 1\n",
    "            if (row['Week'] == week):\n",
    "                weeklyLines.append([week, away,f\"-{formattedSpread}\", home, f\"+{formattedSpread}\" ] )\n",
    "\n",
    "        count+=1 \n",
    "    #print(simulate)\n",
    "    lines = pd.DataFrame(weeklyLines, columns=['Week', 'Away', 'Away_spread', 'Home', \"Home_spread\"])\n",
    "    #print(lines)\n",
    "    if week == 10: \n",
    "        results = [-3, 4, 2, -4, 3, -8, -14, 31, -2, 3, -32, -3, -4, 2] #week 10\n",
    "        vegas = [-3, 1.5, -5.5, -3, -5.5, 3, -2.5, 3, 2, 2, -17.5, -6, 1, -7.5]\n",
    "    elif week == 11: \n",
    "        results = [-14, -5, -5, 23, 12, -20, -3, -7, -3, -13, -26, -1, -1, 4] #week 11\n",
    "        vegas = [-4, -8, -5.5, 11, -7.5, -6.5, -2.5, -14, 3, -13.5, -7.5, -2.5, -2.5, -2]\n",
    "    elif week == 12: \n",
    "        results = [7, -35, 18, 21, -7, 3, -9, -3, 6, -7, -17, 23, -3, 14, 10, -100] #week 12\n",
    "        vegas = [-8.5, -13, 7, 9, -3.5, 1, 2, 4.5, 2, -2.5, -2, 3, -2.5, 9, 3, -3]\n",
    "    elif week == 13: \n",
    "        results = [-6,5, -3, 3, 14, 5, 30, 6, -5, -17, 23, -8, 3] #week 13\n",
    "        vegas = [-9.5, 2, -3.5, 1.5, -6, 4, 8.5, 4.5, -3, -3.5, 3, 6, -10]\n",
    "    elif week == 14: \n",
    "        results = [3, -22, -20, -15, -24, -4, -6, 4, 3, -12, 3, 17, 20, -2, 1] #week 14\n",
    "        vegas = [-5, -5, -3, 3, 3, -2, -7.5, -1.5, 3, -15, -2, -3, -3.5, 5.5, -13.5]\n",
    "    elif week == 15: \n",
    "        results = [-42, -2, -3, -25, 3, -3, -18, -30, -17, 14, 16, -8, -21, -3, 16, 10] #week 15\n",
    "        vegas = [-3, 2.5, -3, -5.5, -3, -3, -6, -7, -1, -4, 12.5, -7, -2.5, 5, 4, 10]\n",
    "    lines['actual'] = results\n",
    "    lines['Vegas'] = vegas\n",
    "    lines['Home_spread'] = lines['Home_spread'].str.replace('+', '')\n",
    "    lines['pred'] = (lines['Home_spread'].astype(float))\n",
    "    lines['oneScore'] = abs(round(lines['Home_spread'].astype(float)) - lines['actual']) <= 8\n",
    "    lines['predWinner'] = round(lines['Home_spread'].astype(float)* lines['actual']) >= 0\n",
    "    lines['beatOdds'] = lines.apply(determine_beat_odds, axis=1)\n",
    "    #print(\"1 score: \" +str(lines['oneScore'].sum())+\"/\"+str(len(lines)))\n",
    "    #print(\"Correct Winner: \" +str(lines['predWinner'].sum())+\"/\"+str(len(lines)))\n",
    "    #print(\"Beat Vegas: \" +str(lines['beatOdds'].sum())+\"/\"+str(len(lines)))\n",
    "    globalVegas += lines['beatOdds'].sum()\n",
    "    globalOS += lines['oneScore'].sum()\n",
    "    globalWin += lines['predWinner'].sum()\n",
    "    games += len(lines)\n",
    "   \n",
    "print(\"Vegas went: \" +str(globalVegas)+\"/\"+str(games))\n",
    "print(\"Winner went: \" +str(globalWin)+\"/\"+str(games))\n",
    "print(\"1 score went: \" +str(globalOS)+\"/\"+str(games))\n",
    "\n",
    "\n"
   ]
  },
  {
   "cell_type": "code",
   "execution_count": null,
   "id": "55940c87",
   "metadata": {},
   "outputs": [],
   "source": []
  }
 ],
 "metadata": {
  "kernelspec": {
   "display_name": "Python 3 (ipykernel)",
   "language": "python",
   "name": "python3"
  },
  "language_info": {
   "codemirror_mode": {
    "name": "ipython",
    "version": 3
   },
   "file_extension": ".py",
   "mimetype": "text/x-python",
   "name": "python",
   "nbconvert_exporter": "python",
   "pygments_lexer": "ipython3",
   "version": "3.9.12"
  }
 },
 "nbformat": 4,
 "nbformat_minor": 5
}
