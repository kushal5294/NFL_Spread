{
 "cells": [
  {
   "cell_type": "code",
   "execution_count": 6,
   "id": "b2031b2f",
   "metadata": {},
   "outputs": [],
   "source": [
    "import pandas as pd\n",
    "\n",
    "teams = [\n",
    "    \"Detroit Lions\", \"Chicago Bears\", \"Minnesota Vikings\", \"Green Bay Packers\",\n",
    "    \"New York Giants\", \"Philadelphia Eagles\", \"Dallas Cowboys\", \"Washington Commanders\",\n",
    "    \"San Francisco 49ers\", \"Seattle Seahawks\", \"Los Angeles Rams\", \"Arizona Cardinals\",\n",
    "    \"Tampa Bay Buccaneers\", \"New Orleans Saints\", \"Carolina Panthers\", \"Atlanta Falcons\",\n",
    "    \"Kansas City Chiefs\", \"Los Angeles Chargers\", \"Denver Broncos\", \"Las Vegas Raiders\",\n",
    "    \"Buffalo Bills\", \"Miami Dolphins\", \"New England Patriots\", \"New York Jets\",\n",
    "    \"Baltimore Ravens\", \"Cincinnati Bengals\", \"Cleveland Browns\", \"Pittsburgh Steelers\",\n",
    "    \"Tennessee Titans\", \"Indianapolis Colts\", \"Jacksonville Jaguars\", \"Houston Texans\"]\n",
    "matchups = []\n",
    "for i in range(32):\n",
    "    home = teams[i]\n",
    "    for j in range(32):\n",
    "        if j == i:\n",
    "            continue\n",
    "        away = teams[j]\n",
    "        matchups.append({\"Week\": 99, \"Time\": \"1:00\", \"Home\": home+\"_2024\", \"Away\": away+\"_2024\"})\n",
    "df = pd.DataFrame(matchups)\n",
    "df.to_csv(\"AllMatchups.csv\")\n",
    "\n",
    "\n",
    "\n",
    "        \n",
    "    \n"
   ]
  },
  {
   "cell_type": "code",
   "execution_count": null,
   "id": "e5992d21",
   "metadata": {},
   "outputs": [],
   "source": []
  }
 ],
 "metadata": {
  "kernelspec": {
   "display_name": "Python 3 (ipykernel)",
   "language": "python",
   "name": "python3"
  },
  "language_info": {
   "codemirror_mode": {
    "name": "ipython",
    "version": 3
   },
   "file_extension": ".py",
   "mimetype": "text/x-python",
   "name": "python",
   "nbconvert_exporter": "python",
   "pygments_lexer": "ipython3",
   "version": "3.9.12"
  }
 },
 "nbformat": 4,
 "nbformat_minor": 5
}
