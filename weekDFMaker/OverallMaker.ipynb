{
 "cells": [
  {
   "cell_type": "code",
   "execution_count": 1,
   "id": "066478a5",
   "metadata": {},
   "outputs": [
    {
     "name": "stdout",
     "output_type": "stream",
     "text": [
      "                       Tm   W   L   W-L%   PF   PA   PD   MoV  SoS   SRS  \\\n",
      "0    Philadelphia Eagles*  10   1  0.909  310  246   64   5.8 -0.3   5.5   \n",
      "1         Dallas Cowboys+   8   3  0.727  347  185  162  14.7 -3.8  10.9   \n",
      "2         New York Giants   4   8  0.333  159  292 -133 -11.1 -0.3 -11.4   \n",
      "3   Washington Commanders   4   8  0.333  246  350 -104  -8.7 -2.1 -10.7   \n",
      "4          Detroit Lions*   8   3  0.727  294  258   36   3.3 -0.7   2.5   \n",
      "5      Minnesota Vikings+   6   5  0.545  253  230   23   2.1  0.7   2.7   \n",
      "6       Green Bay Packers   5   6  0.455  231  224    7   0.6 -0.5   0.2   \n",
      "7           Chicago Bears   3   8  0.273  230  286  -56  -5.1 -1.2  -6.3   \n",
      "8        Atlanta Falcons*   5   6  0.455  213  232  -19  -1.7 -1.9  -3.6   \n",
      "9      New Orleans Saints   5   6  0.455  229  222    7   0.6 -1.2  -0.5   \n",
      "10   Tampa Bay Buccaneers   4   7  0.364  212  227  -15  -1.4  2.0   0.6   \n",
      "11      Carolina Panthers   1  10  0.091  173  292 -119 -10.8  1.0  -9.8   \n",
      "12   San Francisco 49ers*   8   3  0.727  310  170  140  12.7  0.6  13.3   \n",
      "13      Seattle Seahawks+   6   5  0.545  229  249  -20  -1.8 -0.7  -2.5   \n",
      "14       Los Angeles Rams   5   6  0.455  232  234   -2  -0.2  1.2   1.0   \n",
      "15      Arizona Cardinals   2  10  0.167  206  321 -115  -9.6  1.5  -8.1   \n",
      "0         Miami Dolphins*   8   3  0.727  339  251   88   8.0 -3.1   4.9   \n",
      "1           Buffalo Bills   6   6  0.500  328  227  101   8.4 -3.5   5.0   \n",
      "2           New York Jets   4   7  0.364  163  238  -75  -6.8  0.7  -6.1   \n",
      "3    New England Patriots   2   9  0.182  148  248 -100  -9.1 -0.5  -9.5   \n",
      "4       Baltimore Ravens*   9   3  0.750  324  187  137  11.4  0.6  12.0   \n",
      "5    Pittsburgh Steelers+   7   4  0.636  182  205  -23  -2.1  3.0   1.0   \n",
      "6       Cleveland Browns+   7   4  0.636  239  209   30   2.7  2.0   4.7   \n",
      "7      Cincinnati Bengals   5   6  0.455  212  242  -30  -2.7  3.3   0.6   \n",
      "8   Jacksonville Jaguars*   8   3  0.727  254  225   29   2.6  2.1   4.7   \n",
      "9     Indianapolis Colts+   6   5  0.545  269  268    1   0.1  0.5   0.6   \n",
      "10         Houston Texans   6   5  0.545  259  232   27   2.5  0.0   2.5   \n",
      "11       Tennessee Titans   4   7  0.364  185  224  -39  -3.5  1.4  -2.2   \n",
      "12    Kansas City Chiefs*   8   3  0.727  256  181   75   6.8 -0.4   6.4   \n",
      "13         Denver Broncos   6   5  0.545  246  280  -34  -3.1 -0.5  -3.6   \n",
      "14      Las Vegas Raiders   5   7  0.417  202  256  -54  -4.5 -1.2  -5.7   \n",
      "15   Los Angeles Chargers   4   7  0.364  269  258   11   1.0  1.6   2.6   \n",
      "\n",
      "    OSRS  DSRS  \n",
      "0    6.2  -0.7  \n",
      "1    8.9   1.9  \n",
      "2   -9.5  -1.9  \n",
      "3   -2.4  -8.3  \n",
      "4    5.8  -3.3  \n",
      "5    1.8   1.0  \n",
      "6   -1.5   1.7  \n",
      "7   -1.3  -5.0  \n",
      "8   -3.2  -0.4  \n",
      "9   -0.6   0.1  \n",
      "10  -2.7   3.3  \n",
      "11  -7.1  -2.7  \n",
      "12   7.6   5.7  \n",
      "13  -1.0  -1.5  \n",
      "14  -0.7   1.7  \n",
      "15  -3.7  -4.4  \n",
      "0    9.1  -4.2  \n",
      "1    4.6   0.3  \n",
      "2   -7.2   1.0  \n",
      "3  -10.1   0.6  \n",
      "4    5.3   6.7  \n",
      "5   -2.8   3.7  \n",
      "6    1.3   3.4  \n",
      "7   -0.3   0.9  \n",
      "8    2.2   2.5  \n",
      "9    4.5  -3.8  \n",
      "10   2.6  -0.1  \n",
      "11  -3.5   1.4  \n",
      "12  -0.2   6.5  \n",
      "13   0.6  -4.2  \n",
      "14  -5.3  -0.4  \n",
      "15   3.4  -0.8  \n"
     ]
    },
    {
     "name": "stderr",
     "output_type": "stream",
     "text": [
      "/var/folders/c3/4jwj2hy164s7ghr3rk_vnv9c0000gn/T/ipykernel_73784/244741974.py:12: FutureWarning: The default value of regex will change from True to False in a future version. In addition, single character regular expressions will *not* be treated as literal strings when regex=True.\n",
      "  combined_df['Tm'] = combined_df['Tm'].str.replace('*', '')\n",
      "/var/folders/c3/4jwj2hy164s7ghr3rk_vnv9c0000gn/T/ipykernel_73784/244741974.py:13: FutureWarning: The default value of regex will change from True to False in a future version. In addition, single character regular expressions will *not* be treated as literal strings when regex=True.\n",
      "  combined_df['Tm'] = combined_df['Tm'].str.replace('+', '')\n"
     ]
    }
   ],
   "source": [
    "import pandas as pd\n",
    "\n",
    "combined_df = pd.DataFrame()\n",
    "\n",
    "file_names = ['AFC.csv', 'NFC.csv' ] \n",
    "for file_name in file_names:\n",
    "        data = pd.read_csv(file_name)\n",
    "        combined_df = pd.concat([data, combined_df], axis=0)\n",
    "   \n",
    "print(combined_df)\n",
    "combined_df.fillna(0.0, inplace=True)\n",
    "combined_df['Tm'] = combined_df['Tm'].str.replace('*', '')\n",
    "combined_df['Tm'] = combined_df['Tm'].str.replace('+', '')\n",
    "\n",
    "combined_df.to_csv('2023NFLDATA_overall.csv', index=False)"
   ]
  },
  {
   "cell_type": "code",
   "execution_count": null,
   "id": "ea420743",
   "metadata": {},
   "outputs": [],
   "source": []
  }
 ],
 "metadata": {
  "kernelspec": {
   "display_name": "Python 3 (ipykernel)",
   "language": "python",
   "name": "python3"
  },
  "language_info": {
   "codemirror_mode": {
    "name": "ipython",
    "version": 3
   },
   "file_extension": ".py",
   "mimetype": "text/x-python",
   "name": "python",
   "nbconvert_exporter": "python",
   "pygments_lexer": "ipython3",
   "version": "3.9.12"
  }
 },
 "nbformat": 4,
 "nbformat_minor": 5
}
