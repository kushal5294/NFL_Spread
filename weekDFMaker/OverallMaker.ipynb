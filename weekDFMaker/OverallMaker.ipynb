{
 "cells": [
  {
   "cell_type": "code",
   "execution_count": 1,
   "id": "066478a5",
   "metadata": {},
   "outputs": [
    {
     "name": "stdout",
     "output_type": "stream",
     "text": [
      "                        Tm   W   L   W-L%   PF   PA   PD   MoV  SoS   SRS  \\\n",
      "0     Philadelphia Eagles*  14   3  0.824  463  303  160   9.4 -1.7   7.7   \n",
      "1   Washington Commanders+  12   5  0.706  485  391   94   5.5 -1.8   3.7   \n",
      "2           Dallas Cowboys   7  10  0.412  350  468 -118  -6.9  0.6  -6.3   \n",
      "3          New York Giants   3  14  0.176  273  415 -142  -8.4  0.3  -8.0   \n",
      "4           Detroit Lions*  15   2  0.882  564  342  222  13.1  0.7  13.8   \n",
      "5       Minnesota Vikings+  14   3  0.824  432  332  100   5.9  0.3   6.2   \n",
      "6       Green Bay Packers+  11   6  0.647  460  338  122   7.2  0.9   8.1   \n",
      "7            Chicago Bears   5  12  0.294  310  370  -60  -3.5  1.2  -2.3   \n",
      "8    Tampa Bay Buccaneers*  10   7  0.588  502  385  117   6.9 -0.4   6.4   \n",
      "9          Atlanta Falcons   8   9  0.471  389  423  -34  -2.0 -0.2  -2.2   \n",
      "10       Carolina Panthers   5  12  0.294  341  534 -193 -11.4  0.4 -11.0   \n",
      "11      New Orleans Saints   5  12  0.294  338  398  -60  -3.5 -0.6  -4.1   \n",
      "12       Los Angeles Rams*  10   7  0.588  367  386  -19  -1.1  1.1  -0.1   \n",
      "13        Seattle Seahawks  10   7  0.588  375  368    7   0.4  0.8   1.3   \n",
      "14       Arizona Cardinals   8   9  0.471  400  379   21   1.2  0.9   2.1   \n",
      "15     San Francisco 49ers   6  11  0.353  389  436  -47  -2.8  1.6  -1.2   \n",
      "0           Buffalo Bills*  13   4  0.765  525  368  157   9.2 -1.1   8.1   \n",
      "1           Miami Dolphins   8   9  0.471  345  364  -19  -1.1 -1.9  -3.0   \n",
      "2            New York Jets   5  12  0.294  338  404  -66  -3.9 -0.5  -4.3   \n",
      "3     New England Patriots   4  13  0.235  289  417 -128  -7.5 -0.6  -8.1   \n",
      "4        Baltimore Ravens*  12   5  0.706  518  361  157   9.2  0.6   9.9   \n",
      "5     Pittsburgh Steelers+  10   7  0.588  380  347   33   1.9  0.1   2.1   \n",
      "6       Cincinnati Bengals   9   8  0.529  472  434   38   2.2 -0.8   1.4   \n",
      "7         Cleveland Browns   3  14  0.176  258  435 -177 -10.4  1.2  -9.2   \n",
      "8          Houston Texans*  10   7  0.588  372  372    0   0.0 -0.7  -0.7   \n",
      "9       Indianapolis Colts   8   9  0.471  377  427  -50  -2.9 -0.7  -3.7   \n",
      "10    Jacksonville Jaguars   4  13  0.235  320  435 -115  -6.8 -0.8  -7.5   \n",
      "11        Tennessee Titans   3  14  0.176  311  460 -149  -8.8  0.4  -8.4   \n",
      "12     Kansas City Chiefs*  15   2  0.882  385  326   59   3.5  0.7   4.2   \n",
      "13   Los Angeles Chargers+  11   6  0.647  402  301  101   5.9 -0.6   5.3   \n",
      "14         Denver Broncos+  10   7  0.588  425  311  114   6.7 -0.3   6.4   \n",
      "15       Las Vegas Raiders   4  13  0.235  309  434 -125  -7.4  1.0  -6.4   \n",
      "\n",
      "    OSRS  DSRS  \n",
      "0    3.0   4.7  \n",
      "1    4.9  -1.2  \n",
      "2   -2.6  -3.7  \n",
      "3   -7.5  -0.5  \n",
      "4   10.6   3.2  \n",
      "5    2.8   3.4  \n",
      "6    4.9   3.2  \n",
      "7   -4.8   2.4  \n",
      "8    6.0   0.4  \n",
      "9    0.0  -2.2  \n",
      "10  -2.6  -8.4  \n",
      "11  -3.6  -0.5  \n",
      "12  -0.6   0.6  \n",
      "13  -0.3   1.5  \n",
      "14   0.8   1.2  \n",
      "15   0.9  -2.1  \n",
      "0    7.8   0.3  \n",
      "1   -3.5   0.4  \n",
      "2   -3.0  -1.4  \n",
      "3   -6.2  -1.9  \n",
      "4    8.0   1.9  \n",
      "5   -0.7   2.8  \n",
      "6    5.0  -3.6  \n",
      "7   -7.1  -2.1  \n",
      "8   -1.5   0.8  \n",
      "9   -0.5  -3.2  \n",
      "10  -4.2  -3.4  \n",
      "11  -4.7  -3.7  \n",
      "12  -0.2   4.4  \n",
      "13   0.6   4.7  \n",
      "14   2.1   4.3  \n",
      "15  -3.9  -2.5  \n"
     ]
    },
    {
     "name": "stderr",
     "output_type": "stream",
     "text": [
      "/var/folders/c3/4jwj2hy164s7ghr3rk_vnv9c0000gn/T/ipykernel_86776/252098995.py:12: FutureWarning: The default value of regex will change from True to False in a future version. In addition, single character regular expressions will *not* be treated as literal strings when regex=True.\n",
      "  combined_df['Tm'] = combined_df['Tm'].str.replace('*', '')\n",
      "/var/folders/c3/4jwj2hy164s7ghr3rk_vnv9c0000gn/T/ipykernel_86776/252098995.py:13: FutureWarning: The default value of regex will change from True to False in a future version. In addition, single character regular expressions will *not* be treated as literal strings when regex=True.\n",
      "  combined_df['Tm'] = combined_df['Tm'].str.replace('+', '')\n"
     ]
    }
   ],
   "source": [
    "import pandas as pd\n",
    "\n",
    "combined_df = pd.DataFrame()\n",
    "year= 2024\n",
    "file_names = ['AFC.csv', 'NFC.csv' ] \n",
    "for file_name in file_names:\n",
    "        data = pd.read_csv(file_name)\n",
    "        combined_df = pd.concat([data, combined_df], axis=0)\n",
    "   \n",
    "print(combined_df)\n",
    "combined_df.fillna(0.0, inplace=True)\n",
    "combined_df['Tm'] = combined_df['Tm'].str.replace('*', '')\n",
    "combined_df['Tm'] = combined_df['Tm'].str.replace('+', '')\n",
    "\n",
    "combined_df.to_csv(f'{year}NFLDATA_overall.csv', index=False)"
   ]
  },
  {
   "cell_type": "code",
   "execution_count": null,
   "id": "ea420743",
   "metadata": {},
   "outputs": [],
   "source": []
  }
 ],
 "metadata": {
  "kernelspec": {
   "display_name": "Python 3 (ipykernel)",
   "language": "python",
   "name": "python3"
  },
  "language_info": {
   "codemirror_mode": {
    "name": "ipython",
    "version": 3
   },
   "file_extension": ".py",
   "mimetype": "text/x-python",
   "name": "python",
   "nbconvert_exporter": "python",
   "pygments_lexer": "ipython3",
   "version": "3.9.12"
  }
 },
 "nbformat": 4,
 "nbformat_minor": 5
}
