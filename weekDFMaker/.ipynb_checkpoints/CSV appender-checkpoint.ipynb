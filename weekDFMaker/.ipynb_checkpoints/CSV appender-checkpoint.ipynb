{
 "cells": [
  {
   "cell_type": "code",
   "execution_count": 3,
   "id": "066478a5",
   "metadata": {},
   "outputs": [
    {
     "name": "stdout",
     "output_type": "stream",
     "text": [
      "                       Tm  W  L   W-L%   PF   PA   PD   MoV  SoS   SRS  OSRS  \\\n",
      "0    Philadelphia Eagles*  8  1  0.889  252  195   57   6.3 -2.2   4.1   4.8   \n",
      "1         Dallas Cowboys+  5  3  0.625  220  148   72   9.0 -1.8   7.2   5.8   \n",
      "2   Washington Commanders  4  5  0.444  191  245  -54  -6.0 -3.9  -9.9  -2.8   \n",
      "3         New York Giants  2  7  0.222  101  217 -116 -12.9 -0.2 -13.1 -11.8   \n",
      "4          Detroit Lions*  6  2  0.750  200  165   35   4.4 -0.2   4.2   5.0   \n",
      "5      Minnesota Vikings+  5  4  0.556  206  190   16   1.8  0.4   2.2   1.7   \n",
      "6       Green Bay Packers  3  5  0.375  160  159    1   0.1 -2.5  -2.4  -3.4   \n",
      "7           Chicago Bears  2  7  0.222  188  242  -54  -6.0 -1.5  -7.5  -1.1   \n",
      "8     New Orleans Saints*  5  4  0.556  195  171   24   2.7 -1.1   1.5  -0.3   \n",
      "9         Atlanta Falcons  4  5  0.444  166  192  -26  -2.9 -0.4  -3.3  -3.3   \n",
      "10   Tampa Bay Buccaneers  3  5  0.375  158  167   -9  -1.1  1.4   0.2  -2.3   \n",
      "11      Carolina Panthers  1  7  0.125  140  226  -86 -10.8  1.8  -9.0  -5.3   \n",
      "12   San Francisco 49ers*  5  3  0.625  218  140   78   9.8 -0.2   9.6   6.6   \n",
      "13      Seattle Seahawks*  5  3  0.625  171  175   -4  -0.5 -0.1  -0.6   0.8   \n",
      "14       Los Angeles Rams  3  6  0.333  178  204  -26  -2.9  2.1  -0.8  -1.7   \n",
      "15      Arizona Cardinals  1  8  0.111  151  240  -89  -9.9  2.3  -7.6  -3.2   \n",
      "0         Miami Dolphins*  6  3  0.667  285  225   60   6.7 -3.5   3.2   9.1   \n",
      "1           Buffalo Bills  5  4  0.556  240  160   80   8.9 -3.8   5.1   4.1   \n",
      "2           New York Jets  4  4  0.500  132  156  -24  -3.0 -1.6  -4.6  -5.8   \n",
      "3    New England Patriots  2  7  0.222  135  228  -93 -10.3  0.0 -10.3  -8.5   \n",
      "4       Baltimore Ravens*  7  2  0.778  239  124  115  12.8  2.1  14.8   5.5   \n",
      "5    Pittsburgh Steelers+  5  3  0.625  133  163  -30  -3.8  4.1   0.3  -2.1   \n",
      "6       Cleveland Browns+  5  3  0.625  181  139   42   5.3  2.4   7.6   2.0   \n",
      "7     Cincinnati Bengals+  5  3  0.625  155  162   -7  -0.9  3.8   2.9  -0.1   \n",
      "8   Jacksonville Jaguars*  6  2  0.750  193  156   37   4.6  2.4   7.0   3.1   \n",
      "9          Houston Texans  4  4  0.500  187  165   22   2.8  1.8   4.5   3.2   \n",
      "10     Indianapolis Colts  4  5  0.444  232  242  -10  -1.1  3.6   2.5   6.9   \n",
      "11       Tennessee Titans  3  5  0.375  148  160  -12  -1.5  3.7   2.2  -0.9   \n",
      "12    Kansas City Chiefs*  7  2  0.778  208  143   65   7.2 -1.5   5.7  -1.4   \n",
      "13   Los Angeles Chargers  4  4  0.500  201  174   27   3.4  0.2   3.6   3.4   \n",
      "14      Las Vegas Raiders  4  5  0.444  156  193  -37  -4.1 -3.0  -7.1  -5.8   \n",
      "15         Denver Broncos  3  5  0.375  172  226  -54  -6.8 -2.8  -9.5  -1.0   \n",
      "\n",
      "    DSRS  \n",
      "0   -0.7  \n",
      "1    1.5  \n",
      "2   -7.1  \n",
      "3   -1.3  \n",
      "4   -0.9  \n",
      "5    0.5  \n",
      "6    1.0  \n",
      "7   -6.4  \n",
      "8    1.9  \n",
      "9    0.0  \n",
      "10   2.6  \n",
      "11  -3.7  \n",
      "12   3.0  \n",
      "13  -1.4  \n",
      "14   0.9  \n",
      "15  -4.4  \n",
      "0   -5.9  \n",
      "1    1.0  \n",
      "2    1.3  \n",
      "3   -1.8  \n",
      "4    9.3  \n",
      "5    2.5  \n",
      "6    5.6  \n",
      "7    3.1  \n",
      "8    3.9  \n",
      "9    1.3  \n",
      "10  -4.4  \n",
      "11   3.2  \n",
      "12   7.1  \n",
      "13   0.1  \n",
      "14  -1.3  \n",
      "15  -8.5  \n"
     ]
    }
   ],
   "source": [
    "import pandas as pd\n",
    "\n",
    "combined_df = pd.DataFrame()\n",
    "\n",
    "file_names = ['AFC.csv', 'NFC.csv' ] \n",
    "for file_name in file_names:\n",
    "        data = pd.read_csv(file_name)\n",
    "        combined_df = pd.concat([data, combined_df], axis=0)\n",
    "   \n",
    "print(combined_df)\n",
    "combined_df.fillna(0.0, inplace=True)\n",
    "\n",
    "combined_df.to_csv('combined_data.csv', index=False)"
   ]
  },
  {
   "cell_type": "code",
   "execution_count": null,
   "id": "ea420743",
   "metadata": {},
   "outputs": [],
   "source": []
  }
 ],
 "metadata": {
  "kernelspec": {
   "display_name": "Python 3 (ipykernel)",
   "language": "python",
   "name": "python3"
  },
  "language_info": {
   "codemirror_mode": {
    "name": "ipython",
    "version": 3
   },
   "file_extension": ".py",
   "mimetype": "text/x-python",
   "name": "python",
   "nbconvert_exporter": "python",
   "pygments_lexer": "ipython3",
   "version": "3.9.12"
  }
 },
 "nbformat": 4,
 "nbformat_minor": 5
}
